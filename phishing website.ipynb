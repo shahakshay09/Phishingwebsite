{
 "cells": [
  {
   "cell_type": "markdown",
   "id": "b7d747d5",
   "metadata": {},
   "source": [
    "# Phishing Website Detection by Machine Learning Techniques"
   ]
  },
  {
   "cell_type": "markdown",
   "id": "6fc81be9",
   "metadata": {},
   "source": [
    "### Objective :-"
   ]
  },
  {
   "cell_type": "markdown",
   "id": "2a6f73f8",
   "metadata": {},
   "source": [
    "##### Build a model that predicts/classifies whether a website is a Phishing website."
   ]
  },
  {
   "cell_type": "code",
   "execution_count": 13,
   "id": "8cf587a0",
   "metadata": {},
   "outputs": [],
   "source": [
    "#importing neccssary librabries\n",
    "import pandas as pd\n",
    "import numpy as np\n",
    "import seaborn as sns\n",
    "import matplotlib.pyplot as plt\n",
    "import warnings\n",
    "warnings.filterwarnings('ignore')"
   ]
  },
  {
   "cell_type": "code",
   "execution_count": 3,
   "id": "2a8029fe",
   "metadata": {},
   "outputs": [],
   "source": [
    "df = pd.read_csv(\"Phishing Data .csv\")"
   ]
  },
  {
   "cell_type": "code",
   "execution_count": 4,
   "id": "9109c039",
   "metadata": {},
   "outputs": [
    {
     "data": {
      "text/html": [
       "<div>\n",
       "<style scoped>\n",
       "    .dataframe tbody tr th:only-of-type {\n",
       "        vertical-align: middle;\n",
       "    }\n",
       "\n",
       "    .dataframe tbody tr th {\n",
       "        vertical-align: top;\n",
       "    }\n",
       "\n",
       "    .dataframe thead th {\n",
       "        text-align: right;\n",
       "    }\n",
       "</style>\n",
       "<table border=\"1\" class=\"dataframe\">\n",
       "  <thead>\n",
       "    <tr style=\"text-align: right;\">\n",
       "      <th></th>\n",
       "      <th>having_IP_Address</th>\n",
       "      <th>URL_Length</th>\n",
       "      <th>Shortining_Service</th>\n",
       "      <th>having_At_Symbol</th>\n",
       "      <th>double_slash_redirecting</th>\n",
       "      <th>Prefix_Suffix</th>\n",
       "      <th>having_Sub_Domain</th>\n",
       "      <th>SSLfinal_State</th>\n",
       "      <th>Domain_registeration_length</th>\n",
       "      <th>Favicon</th>\n",
       "      <th>...</th>\n",
       "      <th>popUpWidnow</th>\n",
       "      <th>Iframe</th>\n",
       "      <th>age_of_domain</th>\n",
       "      <th>DNSRecord</th>\n",
       "      <th>web_traffic</th>\n",
       "      <th>Page_Rank</th>\n",
       "      <th>Google_Index</th>\n",
       "      <th>Links_pointing_to_page</th>\n",
       "      <th>Statistical_report</th>\n",
       "      <th>Result</th>\n",
       "    </tr>\n",
       "  </thead>\n",
       "  <tbody>\n",
       "    <tr>\n",
       "      <th>0</th>\n",
       "      <td>1</td>\n",
       "      <td>1</td>\n",
       "      <td>0</td>\n",
       "      <td>0</td>\n",
       "      <td>1</td>\n",
       "      <td>-1</td>\n",
       "      <td>-1</td>\n",
       "      <td>-1</td>\n",
       "      <td>0</td>\n",
       "      <td>0</td>\n",
       "      <td>...</td>\n",
       "      <td>0</td>\n",
       "      <td>0</td>\n",
       "      <td>-1</td>\n",
       "      <td>1</td>\n",
       "      <td>-1</td>\n",
       "      <td>-1</td>\n",
       "      <td>0</td>\n",
       "      <td>1</td>\n",
       "      <td>1</td>\n",
       "      <td>1</td>\n",
       "    </tr>\n",
       "    <tr>\n",
       "      <th>1</th>\n",
       "      <td>0</td>\n",
       "      <td>1</td>\n",
       "      <td>0</td>\n",
       "      <td>0</td>\n",
       "      <td>0</td>\n",
       "      <td>-1</td>\n",
       "      <td>0</td>\n",
       "      <td>1</td>\n",
       "      <td>0</td>\n",
       "      <td>0</td>\n",
       "      <td>...</td>\n",
       "      <td>0</td>\n",
       "      <td>0</td>\n",
       "      <td>-1</td>\n",
       "      <td>1</td>\n",
       "      <td>0</td>\n",
       "      <td>-1</td>\n",
       "      <td>0</td>\n",
       "      <td>1</td>\n",
       "      <td>0</td>\n",
       "      <td>1</td>\n",
       "    </tr>\n",
       "    <tr>\n",
       "      <th>2</th>\n",
       "      <td>0</td>\n",
       "      <td>0</td>\n",
       "      <td>0</td>\n",
       "      <td>0</td>\n",
       "      <td>0</td>\n",
       "      <td>-1</td>\n",
       "      <td>-1</td>\n",
       "      <td>-1</td>\n",
       "      <td>0</td>\n",
       "      <td>0</td>\n",
       "      <td>...</td>\n",
       "      <td>0</td>\n",
       "      <td>0</td>\n",
       "      <td>0</td>\n",
       "      <td>1</td>\n",
       "      <td>1</td>\n",
       "      <td>-1</td>\n",
       "      <td>0</td>\n",
       "      <td>0</td>\n",
       "      <td>1</td>\n",
       "      <td>1</td>\n",
       "    </tr>\n",
       "    <tr>\n",
       "      <th>3</th>\n",
       "      <td>0</td>\n",
       "      <td>0</td>\n",
       "      <td>0</td>\n",
       "      <td>0</td>\n",
       "      <td>0</td>\n",
       "      <td>-1</td>\n",
       "      <td>-1</td>\n",
       "      <td>-1</td>\n",
       "      <td>1</td>\n",
       "      <td>0</td>\n",
       "      <td>...</td>\n",
       "      <td>0</td>\n",
       "      <td>0</td>\n",
       "      <td>-1</td>\n",
       "      <td>1</td>\n",
       "      <td>1</td>\n",
       "      <td>-1</td>\n",
       "      <td>0</td>\n",
       "      <td>-1</td>\n",
       "      <td>0</td>\n",
       "      <td>1</td>\n",
       "    </tr>\n",
       "    <tr>\n",
       "      <th>4</th>\n",
       "      <td>0</td>\n",
       "      <td>0</td>\n",
       "      <td>1</td>\n",
       "      <td>0</td>\n",
       "      <td>0</td>\n",
       "      <td>-1</td>\n",
       "      <td>1</td>\n",
       "      <td>1</td>\n",
       "      <td>0</td>\n",
       "      <td>0</td>\n",
       "      <td>...</td>\n",
       "      <td>1</td>\n",
       "      <td>0</td>\n",
       "      <td>-1</td>\n",
       "      <td>1</td>\n",
       "      <td>0</td>\n",
       "      <td>-1</td>\n",
       "      <td>0</td>\n",
       "      <td>1</td>\n",
       "      <td>0</td>\n",
       "      <td>0</td>\n",
       "    </tr>\n",
       "  </tbody>\n",
       "</table>\n",
       "<p>5 rows × 31 columns</p>\n",
       "</div>"
      ],
      "text/plain": [
       "   having_IP_Address  URL_Length  Shortining_Service  having_At_Symbol  \\\n",
       "0                  1           1                   0                 0   \n",
       "1                  0           1                   0                 0   \n",
       "2                  0           0                   0                 0   \n",
       "3                  0           0                   0                 0   \n",
       "4                  0           0                   1                 0   \n",
       "\n",
       "   double_slash_redirecting  Prefix_Suffix  having_Sub_Domain  SSLfinal_State  \\\n",
       "0                         1             -1                 -1              -1   \n",
       "1                         0             -1                  0               1   \n",
       "2                         0             -1                 -1              -1   \n",
       "3                         0             -1                 -1              -1   \n",
       "4                         0             -1                  1               1   \n",
       "\n",
       "   Domain_registeration_length  Favicon  ...  popUpWidnow  Iframe  \\\n",
       "0                            0        0  ...            0       0   \n",
       "1                            0        0  ...            0       0   \n",
       "2                            0        0  ...            0       0   \n",
       "3                            1        0  ...            0       0   \n",
       "4                            0        0  ...            1       0   \n",
       "\n",
       "   age_of_domain  DNSRecord  web_traffic  Page_Rank  Google_Index  \\\n",
       "0             -1          1           -1         -1             0   \n",
       "1             -1          1            0         -1             0   \n",
       "2              0          1            1         -1             0   \n",
       "3             -1          1            1         -1             0   \n",
       "4             -1          1            0         -1             0   \n",
       "\n",
       "   Links_pointing_to_page  Statistical_report  Result  \n",
       "0                       1                   1       1  \n",
       "1                       1                   0       1  \n",
       "2                       0                   1       1  \n",
       "3                      -1                   0       1  \n",
       "4                       1                   0       0  \n",
       "\n",
       "[5 rows x 31 columns]"
      ]
     },
     "execution_count": 4,
     "metadata": {},
     "output_type": "execute_result"
    }
   ],
   "source": [
    "df.head()"
   ]
  },
  {
   "cell_type": "markdown",
   "id": "5de21dfd",
   "metadata": {},
   "source": [
    "# Exploratory Data Analysis (EDA):"
   ]
  },
  {
   "cell_type": "code",
   "execution_count": 5,
   "id": "2588dee6",
   "metadata": {},
   "outputs": [
    {
     "data": {
      "text/plain": [
       "(2456, 31)"
      ]
     },
     "execution_count": 5,
     "metadata": {},
     "output_type": "execute_result"
    }
   ],
   "source": [
    "df.shape"
   ]
  },
  {
   "cell_type": "code",
   "execution_count": 6,
   "id": "8905dbae",
   "metadata": {},
   "outputs": [
    {
     "name": "stdout",
     "output_type": "stream",
     "text": [
      "<class 'pandas.core.frame.DataFrame'>\n",
      "RangeIndex: 2456 entries, 0 to 2455\n",
      "Data columns (total 31 columns):\n",
      " #   Column                       Non-Null Count  Dtype\n",
      "---  ------                       --------------  -----\n",
      " 0   having_IP_Address            2456 non-null   int64\n",
      " 1   URL_Length                   2456 non-null   int64\n",
      " 2   Shortining_Service           2456 non-null   int64\n",
      " 3   having_At_Symbol             2456 non-null   int64\n",
      " 4   double_slash_redirecting     2456 non-null   int64\n",
      " 5   Prefix_Suffix                2456 non-null   int64\n",
      " 6   having_Sub_Domain            2456 non-null   int64\n",
      " 7   SSLfinal_State               2456 non-null   int64\n",
      " 8   Domain_registeration_length  2456 non-null   int64\n",
      " 9   Favicon                      2456 non-null   int64\n",
      " 10  port                         2456 non-null   int64\n",
      " 11  HTTPS_token                  2456 non-null   int64\n",
      " 12  Request_URL                  2456 non-null   int64\n",
      " 13  URL_of_Anchor                2456 non-null   int64\n",
      " 14  Links_in_tags                2456 non-null   int64\n",
      " 15  SFH                          2456 non-null   int64\n",
      " 16  Submitting_to_email          2456 non-null   int64\n",
      " 17  Abnormal_URL                 2456 non-null   int64\n",
      " 18  Redirect                     2456 non-null   int64\n",
      " 19  on_mouseover                 2456 non-null   int64\n",
      " 20  RightClick                   2456 non-null   int64\n",
      " 21  popUpWidnow                  2456 non-null   int64\n",
      " 22  Iframe                       2456 non-null   int64\n",
      " 23  age_of_domain                2456 non-null   int64\n",
      " 24  DNSRecord                    2456 non-null   int64\n",
      " 25  web_traffic                  2456 non-null   int64\n",
      " 26  Page_Rank                    2456 non-null   int64\n",
      " 27  Google_Index                 2456 non-null   int64\n",
      " 28  Links_pointing_to_page       2456 non-null   int64\n",
      " 29  Statistical_report           2456 non-null   int64\n",
      " 30  Result                       2456 non-null   int64\n",
      "dtypes: int64(31)\n",
      "memory usage: 594.9 KB\n"
     ]
    }
   ],
   "source": [
    "df.info()"
   ]
  },
  {
   "cell_type": "code",
   "execution_count": 7,
   "id": "38738ddb",
   "metadata": {},
   "outputs": [
    {
     "data": {
      "text/plain": [
       "having_IP_Address              int64\n",
       "URL_Length                     int64\n",
       "Shortining_Service             int64\n",
       "having_At_Symbol               int64\n",
       "double_slash_redirecting       int64\n",
       "Prefix_Suffix                  int64\n",
       "having_Sub_Domain              int64\n",
       "SSLfinal_State                 int64\n",
       "Domain_registeration_length    int64\n",
       "Favicon                        int64\n",
       "port                           int64\n",
       "HTTPS_token                    int64\n",
       "Request_URL                    int64\n",
       "URL_of_Anchor                  int64\n",
       "Links_in_tags                  int64\n",
       "SFH                            int64\n",
       "Submitting_to_email            int64\n",
       "Abnormal_URL                   int64\n",
       "Redirect                       int64\n",
       "on_mouseover                   int64\n",
       "RightClick                     int64\n",
       "popUpWidnow                    int64\n",
       "Iframe                         int64\n",
       "age_of_domain                  int64\n",
       "DNSRecord                      int64\n",
       "web_traffic                    int64\n",
       "Page_Rank                      int64\n",
       "Google_Index                   int64\n",
       "Links_pointing_to_page         int64\n",
       "Statistical_report             int64\n",
       "Result                         int64\n",
       "dtype: object"
      ]
     },
     "execution_count": 7,
     "metadata": {},
     "output_type": "execute_result"
    }
   ],
   "source": [
    "df.dtypes"
   ]
  },
  {
   "cell_type": "code",
   "execution_count": 8,
   "id": "db8da2e0",
   "metadata": {},
   "outputs": [
    {
     "data": {
      "text/plain": [
       "Index(['having_IP_Address', 'URL_Length', 'Shortining_Service',\n",
       "       'having_At_Symbol', 'double_slash_redirecting', 'Prefix_Suffix',\n",
       "       'having_Sub_Domain', 'SSLfinal_State', 'Domain_registeration_length',\n",
       "       'Favicon', 'port', 'HTTPS_token', 'Request_URL', 'URL_of_Anchor',\n",
       "       'Links_in_tags', 'SFH', 'Submitting_to_email', 'Abnormal_URL',\n",
       "       'Redirect', 'on_mouseover', 'RightClick', 'popUpWidnow', 'Iframe',\n",
       "       'age_of_domain', 'DNSRecord', 'web_traffic', 'Page_Rank',\n",
       "       'Google_Index', 'Links_pointing_to_page', 'Statistical_report',\n",
       "       'Result'],\n",
       "      dtype='object')"
      ]
     },
     "execution_count": 8,
     "metadata": {},
     "output_type": "execute_result"
    }
   ],
   "source": [
    "df.columns"
   ]
  },
  {
   "cell_type": "code",
   "execution_count": 9,
   "id": "dcca9ecc",
   "metadata": {},
   "outputs": [
    {
     "data": {
      "text/plain": [
       "having_IP_Address              0\n",
       "URL_Length                     0\n",
       "Shortining_Service             0\n",
       "having_At_Symbol               0\n",
       "double_slash_redirecting       0\n",
       "Prefix_Suffix                  0\n",
       "having_Sub_Domain              0\n",
       "SSLfinal_State                 0\n",
       "Domain_registeration_length    0\n",
       "Favicon                        0\n",
       "port                           0\n",
       "HTTPS_token                    0\n",
       "Request_URL                    0\n",
       "URL_of_Anchor                  0\n",
       "Links_in_tags                  0\n",
       "SFH                            0\n",
       "Submitting_to_email            0\n",
       "Abnormal_URL                   0\n",
       "Redirect                       0\n",
       "on_mouseover                   0\n",
       "RightClick                     0\n",
       "popUpWidnow                    0\n",
       "Iframe                         0\n",
       "age_of_domain                  0\n",
       "DNSRecord                      0\n",
       "web_traffic                    0\n",
       "Page_Rank                      0\n",
       "Google_Index                   0\n",
       "Links_pointing_to_page         0\n",
       "Statistical_report             0\n",
       "Result                         0\n",
       "dtype: int64"
      ]
     },
     "execution_count": 9,
     "metadata": {},
     "output_type": "execute_result"
    }
   ],
   "source": [
    "#checking for NULL values\n",
    "df.isnull().sum()"
   ]
  },
  {
   "cell_type": "code",
   "execution_count": 10,
   "id": "d3616b55",
   "metadata": {},
   "outputs": [
    {
     "data": {
      "text/plain": [
       "having_IP_Address              2\n",
       "URL_Length                     3\n",
       "Shortining_Service             2\n",
       "having_At_Symbol               2\n",
       "double_slash_redirecting       2\n",
       "Prefix_Suffix                  3\n",
       "having_Sub_Domain              3\n",
       "SSLfinal_State                 3\n",
       "Domain_registeration_length    3\n",
       "Favicon                        2\n",
       "port                           2\n",
       "HTTPS_token                    2\n",
       "Request_URL                    2\n",
       "URL_of_Anchor                  3\n",
       "Links_in_tags                  3\n",
       "SFH                            2\n",
       "Submitting_to_email            2\n",
       "Abnormal_URL                   2\n",
       "Redirect                       2\n",
       "on_mouseover                   2\n",
       "RightClick                     2\n",
       "popUpWidnow                    2\n",
       "Iframe                         2\n",
       "age_of_domain                  3\n",
       "DNSRecord                      2\n",
       "web_traffic                    3\n",
       "Page_Rank                      3\n",
       "Google_Index                   2\n",
       "Links_pointing_to_page         3\n",
       "Statistical_report             2\n",
       "Result                         2\n",
       "dtype: int64"
      ]
     },
     "execution_count": 10,
     "metadata": {},
     "output_type": "execute_result"
    }
   ],
   "source": [
    "df.nunique()"
   ]
  },
  {
   "cell_type": "markdown",
   "id": "9d5d6078",
   "metadata": {},
   "source": [
    "# Statistical summary"
   ]
  },
  {
   "cell_type": "code",
   "execution_count": 11,
   "id": "2ac89991",
   "metadata": {},
   "outputs": [
    {
     "data": {
      "text/html": [
       "<div>\n",
       "<style scoped>\n",
       "    .dataframe tbody tr th:only-of-type {\n",
       "        vertical-align: middle;\n",
       "    }\n",
       "\n",
       "    .dataframe tbody tr th {\n",
       "        vertical-align: top;\n",
       "    }\n",
       "\n",
       "    .dataframe thead th {\n",
       "        text-align: right;\n",
       "    }\n",
       "</style>\n",
       "<table border=\"1\" class=\"dataframe\">\n",
       "  <thead>\n",
       "    <tr style=\"text-align: right;\">\n",
       "      <th></th>\n",
       "      <th>having_IP_Address</th>\n",
       "      <th>URL_Length</th>\n",
       "      <th>Shortining_Service</th>\n",
       "      <th>having_At_Symbol</th>\n",
       "      <th>double_slash_redirecting</th>\n",
       "      <th>Prefix_Suffix</th>\n",
       "      <th>having_Sub_Domain</th>\n",
       "      <th>SSLfinal_State</th>\n",
       "      <th>Domain_registeration_length</th>\n",
       "      <th>Favicon</th>\n",
       "      <th>...</th>\n",
       "      <th>popUpWidnow</th>\n",
       "      <th>Iframe</th>\n",
       "      <th>age_of_domain</th>\n",
       "      <th>DNSRecord</th>\n",
       "      <th>web_traffic</th>\n",
       "      <th>Page_Rank</th>\n",
       "      <th>Google_Index</th>\n",
       "      <th>Links_pointing_to_page</th>\n",
       "      <th>Statistical_report</th>\n",
       "      <th>Result</th>\n",
       "    </tr>\n",
       "  </thead>\n",
       "  <tbody>\n",
       "    <tr>\n",
       "      <th>count</th>\n",
       "      <td>2456.000000</td>\n",
       "      <td>2456.000000</td>\n",
       "      <td>2456.000000</td>\n",
       "      <td>2456.000000</td>\n",
       "      <td>2456.000000</td>\n",
       "      <td>2456.000000</td>\n",
       "      <td>2456.000000</td>\n",
       "      <td>2456.000000</td>\n",
       "      <td>2456.000000</td>\n",
       "      <td>2456.000000</td>\n",
       "      <td>...</td>\n",
       "      <td>2456.000000</td>\n",
       "      <td>2456.000000</td>\n",
       "      <td>2456.000000</td>\n",
       "      <td>2456.000000</td>\n",
       "      <td>2456.000000</td>\n",
       "      <td>2456.000000</td>\n",
       "      <td>2456.000000</td>\n",
       "      <td>2456.000000</td>\n",
       "      <td>2456.000000</td>\n",
       "      <td>2456.000000</td>\n",
       "    </tr>\n",
       "    <tr>\n",
       "      <th>mean</th>\n",
       "      <td>0.113192</td>\n",
       "      <td>-0.649837</td>\n",
       "      <td>0.122964</td>\n",
       "      <td>0.054560</td>\n",
       "      <td>0.125407</td>\n",
       "      <td>-0.254886</td>\n",
       "      <td>-0.185668</td>\n",
       "      <td>0.255700</td>\n",
       "      <td>0.018730</td>\n",
       "      <td>0.189739</td>\n",
       "      <td>...</td>\n",
       "      <td>0.196254</td>\n",
       "      <td>0.092020</td>\n",
       "      <td>-0.003257</td>\n",
       "      <td>0.536645</td>\n",
       "      <td>0.304560</td>\n",
       "      <td>-0.540717</td>\n",
       "      <td>0.139658</td>\n",
       "      <td>0.344463</td>\n",
       "      <td>0.179153</td>\n",
       "      <td>0.445440</td>\n",
       "    </tr>\n",
       "    <tr>\n",
       "      <th>std</th>\n",
       "      <td>0.316892</td>\n",
       "      <td>0.752690</td>\n",
       "      <td>0.328463</td>\n",
       "      <td>0.227166</td>\n",
       "      <td>0.331247</td>\n",
       "      <td>0.676170</td>\n",
       "      <td>0.802068</td>\n",
       "      <td>0.912332</td>\n",
       "      <td>0.798455</td>\n",
       "      <td>0.392175</td>\n",
       "      <td>...</td>\n",
       "      <td>0.397244</td>\n",
       "      <td>0.289112</td>\n",
       "      <td>0.939726</td>\n",
       "      <td>0.498757</td>\n",
       "      <td>0.834146</td>\n",
       "      <td>0.757832</td>\n",
       "      <td>0.346702</td>\n",
       "      <td>0.568911</td>\n",
       "      <td>0.383559</td>\n",
       "      <td>0.497115</td>\n",
       "    </tr>\n",
       "    <tr>\n",
       "      <th>min</th>\n",
       "      <td>0.000000</td>\n",
       "      <td>-1.000000</td>\n",
       "      <td>0.000000</td>\n",
       "      <td>0.000000</td>\n",
       "      <td>0.000000</td>\n",
       "      <td>-1.000000</td>\n",
       "      <td>-1.000000</td>\n",
       "      <td>-1.000000</td>\n",
       "      <td>-1.000000</td>\n",
       "      <td>0.000000</td>\n",
       "      <td>...</td>\n",
       "      <td>0.000000</td>\n",
       "      <td>0.000000</td>\n",
       "      <td>-1.000000</td>\n",
       "      <td>0.000000</td>\n",
       "      <td>-1.000000</td>\n",
       "      <td>-1.000000</td>\n",
       "      <td>0.000000</td>\n",
       "      <td>-1.000000</td>\n",
       "      <td>0.000000</td>\n",
       "      <td>0.000000</td>\n",
       "    </tr>\n",
       "    <tr>\n",
       "      <th>25%</th>\n",
       "      <td>0.000000</td>\n",
       "      <td>-1.000000</td>\n",
       "      <td>0.000000</td>\n",
       "      <td>0.000000</td>\n",
       "      <td>0.000000</td>\n",
       "      <td>-1.000000</td>\n",
       "      <td>-1.000000</td>\n",
       "      <td>-1.000000</td>\n",
       "      <td>-1.000000</td>\n",
       "      <td>0.000000</td>\n",
       "      <td>...</td>\n",
       "      <td>0.000000</td>\n",
       "      <td>0.000000</td>\n",
       "      <td>-1.000000</td>\n",
       "      <td>0.000000</td>\n",
       "      <td>0.000000</td>\n",
       "      <td>-1.000000</td>\n",
       "      <td>0.000000</td>\n",
       "      <td>0.000000</td>\n",
       "      <td>0.000000</td>\n",
       "      <td>0.000000</td>\n",
       "    </tr>\n",
       "    <tr>\n",
       "      <th>50%</th>\n",
       "      <td>0.000000</td>\n",
       "      <td>-1.000000</td>\n",
       "      <td>0.000000</td>\n",
       "      <td>0.000000</td>\n",
       "      <td>0.000000</td>\n",
       "      <td>0.000000</td>\n",
       "      <td>0.000000</td>\n",
       "      <td>1.000000</td>\n",
       "      <td>0.000000</td>\n",
       "      <td>0.000000</td>\n",
       "      <td>...</td>\n",
       "      <td>0.000000</td>\n",
       "      <td>0.000000</td>\n",
       "      <td>0.000000</td>\n",
       "      <td>1.000000</td>\n",
       "      <td>1.000000</td>\n",
       "      <td>-1.000000</td>\n",
       "      <td>0.000000</td>\n",
       "      <td>0.000000</td>\n",
       "      <td>0.000000</td>\n",
       "      <td>0.000000</td>\n",
       "    </tr>\n",
       "    <tr>\n",
       "      <th>75%</th>\n",
       "      <td>0.000000</td>\n",
       "      <td>-1.000000</td>\n",
       "      <td>0.000000</td>\n",
       "      <td>0.000000</td>\n",
       "      <td>0.000000</td>\n",
       "      <td>0.000000</td>\n",
       "      <td>0.000000</td>\n",
       "      <td>1.000000</td>\n",
       "      <td>1.000000</td>\n",
       "      <td>0.000000</td>\n",
       "      <td>...</td>\n",
       "      <td>0.000000</td>\n",
       "      <td>0.000000</td>\n",
       "      <td>1.000000</td>\n",
       "      <td>1.000000</td>\n",
       "      <td>1.000000</td>\n",
       "      <td>0.000000</td>\n",
       "      <td>0.000000</td>\n",
       "      <td>1.000000</td>\n",
       "      <td>0.000000</td>\n",
       "      <td>1.000000</td>\n",
       "    </tr>\n",
       "    <tr>\n",
       "      <th>max</th>\n",
       "      <td>1.000000</td>\n",
       "      <td>1.000000</td>\n",
       "      <td>1.000000</td>\n",
       "      <td>1.000000</td>\n",
       "      <td>1.000000</td>\n",
       "      <td>1.000000</td>\n",
       "      <td>1.000000</td>\n",
       "      <td>1.000000</td>\n",
       "      <td>1.000000</td>\n",
       "      <td>1.000000</td>\n",
       "      <td>...</td>\n",
       "      <td>1.000000</td>\n",
       "      <td>1.000000</td>\n",
       "      <td>1.000000</td>\n",
       "      <td>1.000000</td>\n",
       "      <td>1.000000</td>\n",
       "      <td>1.000000</td>\n",
       "      <td>1.000000</td>\n",
       "      <td>1.000000</td>\n",
       "      <td>1.000000</td>\n",
       "      <td>1.000000</td>\n",
       "    </tr>\n",
       "  </tbody>\n",
       "</table>\n",
       "<p>8 rows × 31 columns</p>\n",
       "</div>"
      ],
      "text/plain": [
       "       having_IP_Address   URL_Length  Shortining_Service  having_At_Symbol  \\\n",
       "count        2456.000000  2456.000000         2456.000000       2456.000000   \n",
       "mean            0.113192    -0.649837            0.122964          0.054560   \n",
       "std             0.316892     0.752690            0.328463          0.227166   \n",
       "min             0.000000    -1.000000            0.000000          0.000000   \n",
       "25%             0.000000    -1.000000            0.000000          0.000000   \n",
       "50%             0.000000    -1.000000            0.000000          0.000000   \n",
       "75%             0.000000    -1.000000            0.000000          0.000000   \n",
       "max             1.000000     1.000000            1.000000          1.000000   \n",
       "\n",
       "       double_slash_redirecting  Prefix_Suffix  having_Sub_Domain  \\\n",
       "count               2456.000000    2456.000000        2456.000000   \n",
       "mean                   0.125407      -0.254886          -0.185668   \n",
       "std                    0.331247       0.676170           0.802068   \n",
       "min                    0.000000      -1.000000          -1.000000   \n",
       "25%                    0.000000      -1.000000          -1.000000   \n",
       "50%                    0.000000       0.000000           0.000000   \n",
       "75%                    0.000000       0.000000           0.000000   \n",
       "max                    1.000000       1.000000           1.000000   \n",
       "\n",
       "       SSLfinal_State  Domain_registeration_length      Favicon  ...  \\\n",
       "count     2456.000000                  2456.000000  2456.000000  ...   \n",
       "mean         0.255700                     0.018730     0.189739  ...   \n",
       "std          0.912332                     0.798455     0.392175  ...   \n",
       "min         -1.000000                    -1.000000     0.000000  ...   \n",
       "25%         -1.000000                    -1.000000     0.000000  ...   \n",
       "50%          1.000000                     0.000000     0.000000  ...   \n",
       "75%          1.000000                     1.000000     0.000000  ...   \n",
       "max          1.000000                     1.000000     1.000000  ...   \n",
       "\n",
       "       popUpWidnow       Iframe  age_of_domain    DNSRecord  web_traffic  \\\n",
       "count  2456.000000  2456.000000    2456.000000  2456.000000  2456.000000   \n",
       "mean      0.196254     0.092020      -0.003257     0.536645     0.304560   \n",
       "std       0.397244     0.289112       0.939726     0.498757     0.834146   \n",
       "min       0.000000     0.000000      -1.000000     0.000000    -1.000000   \n",
       "25%       0.000000     0.000000      -1.000000     0.000000     0.000000   \n",
       "50%       0.000000     0.000000       0.000000     1.000000     1.000000   \n",
       "75%       0.000000     0.000000       1.000000     1.000000     1.000000   \n",
       "max       1.000000     1.000000       1.000000     1.000000     1.000000   \n",
       "\n",
       "         Page_Rank  Google_Index  Links_pointing_to_page  Statistical_report  \\\n",
       "count  2456.000000   2456.000000             2456.000000         2456.000000   \n",
       "mean     -0.540717      0.139658                0.344463            0.179153   \n",
       "std       0.757832      0.346702                0.568911            0.383559   \n",
       "min      -1.000000      0.000000               -1.000000            0.000000   \n",
       "25%      -1.000000      0.000000                0.000000            0.000000   \n",
       "50%      -1.000000      0.000000                0.000000            0.000000   \n",
       "75%       0.000000      0.000000                1.000000            0.000000   \n",
       "max       1.000000      1.000000                1.000000            1.000000   \n",
       "\n",
       "            Result  \n",
       "count  2456.000000  \n",
       "mean      0.445440  \n",
       "std       0.497115  \n",
       "min       0.000000  \n",
       "25%       0.000000  \n",
       "50%       0.000000  \n",
       "75%       1.000000  \n",
       "max       1.000000  \n",
       "\n",
       "[8 rows x 31 columns]"
      ]
     },
     "execution_count": 11,
     "metadata": {},
     "output_type": "execute_result"
    }
   ],
   "source": [
    "df.describe()"
   ]
  },
  {
   "cell_type": "code",
   "execution_count": 16,
   "id": "3ca83cbc",
   "metadata": {},
   "outputs": [
    {
     "data": {
      "image/png": "[encoded data removed]",
      "text/plain": [
       "<Figure size 1800x1080 with 2 Axes>"
      ]
     },
     "metadata": {
      "needs_background": "light"
     },
     "output_type": "display_data"
    }
   ],
   "source": [
    "plt.figure(figsize=(25,15))\n",
    "sns.heatmap(df.describe(),linewidths=0.1,fmt='0.1f',annot=True)\n",
    "plt.show()"
   ]
  },
  {
   "cell_type": "markdown",
   "id": "c0905dd6",
   "metadata": {},
   "source": [
    "# Analyzing Target Variable:"
   ]
  },
  {
   "cell_type": "code",
   "execution_count": 17,
   "id": "d10f93cc",
   "metadata": {},
   "outputs": [
    {
     "data": {
      "text/plain": [
       "array([1, 0], dtype=int64)"
      ]
     },
     "execution_count": 17,
     "metadata": {},
     "output_type": "execute_result"
    }
   ],
   "source": [
    "df['Result'].unique()"
   ]
  },
  {
   "cell_type": "code",
   "execution_count": 18,
   "id": "244897a4",
   "metadata": {},
   "outputs": [
    {
     "data": {
      "text/plain": [
       "0    1362\n",
       "1    1094\n",
       "Name: Result, dtype: int64"
      ]
     },
     "execution_count": 18,
     "metadata": {},
     "output_type": "execute_result"
    }
   ],
   "source": [
    "df['Result'].value_counts()"
   ]
  },
  {
   "cell_type": "code",
   "execution_count": 20,
   "id": "73303032",
   "metadata": {},
   "outputs": [
    {
     "data": {
      "image/png": "[encoded data removed]",
      "text/plain": [
       "<Figure size 576x432 with 1 Axes>"
      ]
     },
     "metadata": {
      "needs_background": "light"
     },
     "output_type": "display_data"
    }
   ],
   "source": [
    "plt.figure(figsize=(8,6))\n",
    "sns.countplot(df['Result'])\n",
    "plt.show()"
   ]
  },
  {
   "cell_type": "code",
   "execution_count": 30,
   "id": "4f487a82",
   "metadata": {},
   "outputs": [
    {
     "data": {
      "image/png": "[encoded data removed]",
      "text/plain": [
       "<Figure size 1440x1440 with 36 Axes>"
      ]
     },
     "metadata": {
      "needs_background": "light"
     },
     "output_type": "display_data"
    }
   ],
   "source": [
    "fig, ax = plt.subplots(figsize = (20,20))\n",
    "df.hist(ax=ax, bins = 50, layout=(6, 6), alpha=0.7, stacked=True)\n",
    "plt.tight_layout()\n",
    "plt.show()"
   ]
  },
  {
   "cell_type": "markdown",
   "id": "761da1e4",
   "metadata": {},
   "source": [
    "# Correlation:"
   ]
  },
  {
   "cell_type": "code",
   "execution_count": 31,
   "id": "fc280044",
   "metadata": {},
   "outputs": [
    {
     "data": {
      "text/html": [
       "<div>\n",
       "<style scoped>\n",
       "    .dataframe tbody tr th:only-of-type {\n",
       "        vertical-align: middle;\n",
       "    }\n",
       "\n",
       "    .dataframe tbody tr th {\n",
       "        vertical-align: top;\n",
       "    }\n",
       "\n",
       "    .dataframe thead th {\n",
       "        text-align: right;\n",
       "    }\n",
       "</style>\n",
       "<table border=\"1\" class=\"dataframe\">\n",
       "  <thead>\n",
       "    <tr style=\"text-align: right;\">\n",
       "      <th></th>\n",
       "      <th>having_IP_Address</th>\n",
       "      <th>URL_Length</th>\n",
       "      <th>Shortining_Service</th>\n",
       "      <th>having_At_Symbol</th>\n",
       "      <th>double_slash_redirecting</th>\n",
       "      <th>Prefix_Suffix</th>\n",
       "      <th>having_Sub_Domain</th>\n",
       "      <th>SSLfinal_State</th>\n",
       "      <th>Domain_registeration_length</th>\n",
       "      <th>Favicon</th>\n",
       "      <th>...</th>\n",
       "      <th>popUpWidnow</th>\n",
       "      <th>Iframe</th>\n",
       "      <th>age_of_domain</th>\n",
       "      <th>DNSRecord</th>\n",
       "      <th>web_traffic</th>\n",
       "      <th>Page_Rank</th>\n",
       "      <th>Google_Index</th>\n",
       "      <th>Links_pointing_to_page</th>\n",
       "      <th>Statistical_report</th>\n",
       "      <th>Result</th>\n",
       "    </tr>\n",
       "  </thead>\n",
       "  <tbody>\n",
       "    <tr>\n",
       "      <th>having_IP_Address</th>\n",
       "      <td>1.000000</td>\n",
       "      <td>0.103582</td>\n",
       "      <td>0.946315</td>\n",
       "      <td>-0.085825</td>\n",
       "      <td>0.920203</td>\n",
       "      <td>0.108087</td>\n",
       "      <td>0.018615</td>\n",
       "      <td>0.043557</td>\n",
       "      <td>-0.098534</td>\n",
       "      <td>0.030326</td>\n",
       "      <td>...</td>\n",
       "      <td>0.049965</td>\n",
       "      <td>0.028537</td>\n",
       "      <td>0.050481</td>\n",
       "      <td>0.228888</td>\n",
       "      <td>0.106839</td>\n",
       "      <td>-0.016420</td>\n",
       "      <td>-0.047548</td>\n",
       "      <td>0.244556</td>\n",
       "      <td>0.215134</td>\n",
       "      <td>-0.061623</td>\n",
       "    </tr>\n",
       "    <tr>\n",
       "      <th>URL_Length</th>\n",
       "      <td>0.103582</td>\n",
       "      <td>1.000000</td>\n",
       "      <td>0.119039</td>\n",
       "      <td>0.069272</td>\n",
       "      <td>0.101536</td>\n",
       "      <td>0.068191</td>\n",
       "      <td>-0.012365</td>\n",
       "      <td>0.041580</td>\n",
       "      <td>-0.326758</td>\n",
       "      <td>0.045295</td>\n",
       "      <td>...</td>\n",
       "      <td>0.053432</td>\n",
       "      <td>0.012847</td>\n",
       "      <td>0.014283</td>\n",
       "      <td>0.051523</td>\n",
       "      <td>0.024704</td>\n",
       "      <td>0.000726</td>\n",
       "      <td>-0.026701</td>\n",
       "      <td>-0.007836</td>\n",
       "      <td>0.084554</td>\n",
       "      <td>-0.055605</td>\n",
       "    </tr>\n",
       "    <tr>\n",
       "      <th>Shortining_Service</th>\n",
       "      <td>0.946315</td>\n",
       "      <td>0.119039</td>\n",
       "      <td>1.000000</td>\n",
       "      <td>-0.068114</td>\n",
       "      <td>0.876519</td>\n",
       "      <td>0.111831</td>\n",
       "      <td>0.027941</td>\n",
       "      <td>0.052711</td>\n",
       "      <td>-0.089549</td>\n",
       "      <td>0.014858</td>\n",
       "      <td>...</td>\n",
       "      <td>0.045988</td>\n",
       "      <td>0.018059</td>\n",
       "      <td>0.056724</td>\n",
       "      <td>0.241016</td>\n",
       "      <td>0.095182</td>\n",
       "      <td>-0.027334</td>\n",
       "      <td>-0.043555</td>\n",
       "      <td>0.213561</td>\n",
       "      <td>0.219520</td>\n",
       "      <td>-0.061175</td>\n",
       "    </tr>\n",
       "    <tr>\n",
       "      <th>having_At_Symbol</th>\n",
       "      <td>-0.085825</td>\n",
       "      <td>0.069272</td>\n",
       "      <td>-0.068114</td>\n",
       "      <td>1.000000</td>\n",
       "      <td>-0.090966</td>\n",
       "      <td>0.026929</td>\n",
       "      <td>0.001966</td>\n",
       "      <td>-0.004449</td>\n",
       "      <td>-0.001145</td>\n",
       "      <td>-0.116249</td>\n",
       "      <td>...</td>\n",
       "      <td>-0.118706</td>\n",
       "      <td>-0.076476</td>\n",
       "      <td>0.035179</td>\n",
       "      <td>-0.107532</td>\n",
       "      <td>-0.066232</td>\n",
       "      <td>0.038937</td>\n",
       "      <td>-0.029553</td>\n",
       "      <td>-0.088749</td>\n",
       "      <td>-0.102878</td>\n",
       "      <td>0.008336</td>\n",
       "    </tr>\n",
       "    <tr>\n",
       "      <th>double_slash_redirecting</th>\n",
       "      <td>0.920203</td>\n",
       "      <td>0.101536</td>\n",
       "      <td>0.876519</td>\n",
       "      <td>-0.090966</td>\n",
       "      <td>1.000000</td>\n",
       "      <td>0.106398</td>\n",
       "      <td>0.020216</td>\n",
       "      <td>0.031330</td>\n",
       "      <td>-0.092049</td>\n",
       "      <td>0.048790</td>\n",
       "      <td>...</td>\n",
       "      <td>0.066721</td>\n",
       "      <td>0.015559</td>\n",
       "      <td>0.037953</td>\n",
       "      <td>0.233517</td>\n",
       "      <td>0.112327</td>\n",
       "      <td>-0.015349</td>\n",
       "      <td>-0.046161</td>\n",
       "      <td>0.202975</td>\n",
       "      <td>0.207816</td>\n",
       "      <td>-0.042536</td>\n",
       "    </tr>\n",
       "    <tr>\n",
       "      <th>Prefix_Suffix</th>\n",
       "      <td>0.108087</td>\n",
       "      <td>0.068191</td>\n",
       "      <td>0.111831</td>\n",
       "      <td>0.026929</td>\n",
       "      <td>0.106398</td>\n",
       "      <td>1.000000</td>\n",
       "      <td>0.115494</td>\n",
       "      <td>0.372453</td>\n",
       "      <td>-0.139030</td>\n",
       "      <td>-0.020312</td>\n",
       "      <td>...</td>\n",
       "      <td>-0.010835</td>\n",
       "      <td>0.011677</td>\n",
       "      <td>0.178187</td>\n",
       "      <td>-0.070127</td>\n",
       "      <td>0.241684</td>\n",
       "      <td>0.219008</td>\n",
       "      <td>-0.164327</td>\n",
       "      <td>0.069498</td>\n",
       "      <td>0.012800</td>\n",
       "      <td>-0.537020</td>\n",
       "    </tr>\n",
       "    <tr>\n",
       "      <th>having_Sub_Domain</th>\n",
       "      <td>0.018615</td>\n",
       "      <td>-0.012365</td>\n",
       "      <td>0.027941</td>\n",
       "      <td>0.001966</td>\n",
       "      <td>0.020216</td>\n",
       "      <td>0.115494</td>\n",
       "      <td>1.000000</td>\n",
       "      <td>0.259734</td>\n",
       "      <td>-0.049267</td>\n",
       "      <td>-0.017455</td>\n",
       "      <td>...</td>\n",
       "      <td>0.007021</td>\n",
       "      <td>-0.031687</td>\n",
       "      <td>0.338584</td>\n",
       "      <td>-0.061389</td>\n",
       "      <td>0.080901</td>\n",
       "      <td>0.097460</td>\n",
       "      <td>-0.051731</td>\n",
       "      <td>-0.022250</td>\n",
       "      <td>-0.018942</td>\n",
       "      <td>-0.266514</td>\n",
       "    </tr>\n",
       "    <tr>\n",
       "      <th>SSLfinal_State</th>\n",
       "      <td>0.043557</td>\n",
       "      <td>0.041580</td>\n",
       "      <td>0.052711</td>\n",
       "      <td>-0.004449</td>\n",
       "      <td>0.031330</td>\n",
       "      <td>0.372453</td>\n",
       "      <td>0.259734</td>\n",
       "      <td>1.000000</td>\n",
       "      <td>-0.219062</td>\n",
       "      <td>0.005514</td>\n",
       "      <td>...</td>\n",
       "      <td>0.003094</td>\n",
       "      <td>-0.002762</td>\n",
       "      <td>0.365856</td>\n",
       "      <td>-0.137868</td>\n",
       "      <td>0.408251</td>\n",
       "      <td>0.277823</td>\n",
       "      <td>-0.137412</td>\n",
       "      <td>-0.012810</td>\n",
       "      <td>-0.023872</td>\n",
       "      <td>-0.712876</td>\n",
       "    </tr>\n",
       "    <tr>\n",
       "      <th>Domain_registeration_length</th>\n",
       "      <td>-0.098534</td>\n",
       "      <td>-0.326758</td>\n",
       "      <td>-0.089549</td>\n",
       "      <td>-0.001145</td>\n",
       "      <td>-0.092049</td>\n",
       "      <td>-0.139030</td>\n",
       "      <td>-0.049267</td>\n",
       "      <td>-0.219062</td>\n",
       "      <td>1.000000</td>\n",
       "      <td>-0.065988</td>\n",
       "      <td>...</td>\n",
       "      <td>-0.070668</td>\n",
       "      <td>-0.021585</td>\n",
       "      <td>-0.126950</td>\n",
       "      <td>0.033052</td>\n",
       "      <td>-0.201828</td>\n",
       "      <td>-0.039803</td>\n",
       "      <td>0.071476</td>\n",
       "      <td>0.105951</td>\n",
       "      <td>-0.026921</td>\n",
       "      <td>0.260157</td>\n",
       "    </tr>\n",
       "    <tr>\n",
       "      <th>Favicon</th>\n",
       "      <td>0.030326</td>\n",
       "      <td>0.045295</td>\n",
       "      <td>0.014858</td>\n",
       "      <td>-0.116249</td>\n",
       "      <td>0.048790</td>\n",
       "      <td>-0.020312</td>\n",
       "      <td>-0.017455</td>\n",
       "      <td>0.005514</td>\n",
       "      <td>-0.065988</td>\n",
       "      <td>1.000000</td>\n",
       "      <td>...</td>\n",
       "      <td>0.942697</td>\n",
       "      <td>0.643493</td>\n",
       "      <td>0.008309</td>\n",
       "      <td>0.164356</td>\n",
       "      <td>0.079784</td>\n",
       "      <td>-0.032929</td>\n",
       "      <td>-0.024208</td>\n",
       "      <td>0.130500</td>\n",
       "      <td>0.656712</td>\n",
       "      <td>0.005067</td>\n",
       "    </tr>\n",
       "    <tr>\n",
       "      <th>port</th>\n",
       "      <td>0.016614</td>\n",
       "      <td>-0.000402</td>\n",
       "      <td>0.004264</td>\n",
       "      <td>-0.094976</td>\n",
       "      <td>0.030078</td>\n",
       "      <td>-0.005950</td>\n",
       "      <td>-0.036172</td>\n",
       "      <td>-0.040331</td>\n",
       "      <td>-0.027177</td>\n",
       "      <td>0.810932</td>\n",
       "      <td>...</td>\n",
       "      <td>0.752122</td>\n",
       "      <td>0.698097</td>\n",
       "      <td>-0.003699</td>\n",
       "      <td>0.109456</td>\n",
       "      <td>0.055526</td>\n",
       "      <td>-0.025905</td>\n",
       "      <td>-0.015001</td>\n",
       "      <td>0.141609</td>\n",
       "      <td>0.728270</td>\n",
       "      <td>0.038609</td>\n",
       "    </tr>\n",
       "    <tr>\n",
       "      <th>HTTPS_token</th>\n",
       "      <td>0.817315</td>\n",
       "      <td>0.109150</td>\n",
       "      <td>0.795787</td>\n",
       "      <td>-0.075699</td>\n",
       "      <td>0.785873</td>\n",
       "      <td>0.072907</td>\n",
       "      <td>0.018198</td>\n",
       "      <td>0.025851</td>\n",
       "      <td>-0.090863</td>\n",
       "      <td>0.037471</td>\n",
       "      <td>...</td>\n",
       "      <td>0.052170</td>\n",
       "      <td>0.006695</td>\n",
       "      <td>0.044026</td>\n",
       "      <td>0.221514</td>\n",
       "      <td>0.071841</td>\n",
       "      <td>-0.042402</td>\n",
       "      <td>-0.067295</td>\n",
       "      <td>0.133185</td>\n",
       "      <td>0.235538</td>\n",
       "      <td>-0.039071</td>\n",
       "    </tr>\n",
       "    <tr>\n",
       "      <th>Request_URL</th>\n",
       "      <td>0.046739</td>\n",
       "      <td>0.251531</td>\n",
       "      <td>0.044220</td>\n",
       "      <td>-0.000345</td>\n",
       "      <td>0.039871</td>\n",
       "      <td>0.073908</td>\n",
       "      <td>0.062708</td>\n",
       "      <td>0.188101</td>\n",
       "      <td>-0.683894</td>\n",
       "      <td>0.011568</td>\n",
       "      <td>...</td>\n",
       "      <td>0.016514</td>\n",
       "      <td>-0.003116</td>\n",
       "      <td>0.094372</td>\n",
       "      <td>-0.056274</td>\n",
       "      <td>0.229900</td>\n",
       "      <td>0.021668</td>\n",
       "      <td>-0.064721</td>\n",
       "      <td>-0.063752</td>\n",
       "      <td>-0.006489</td>\n",
       "      <td>-0.243759</td>\n",
       "    </tr>\n",
       "    <tr>\n",
       "      <th>URL_of_Anchor</th>\n",
       "      <td>-0.009763</td>\n",
       "      <td>-0.026090</td>\n",
       "      <td>-0.009805</td>\n",
       "      <td>-0.035492</td>\n",
       "      <td>0.001426</td>\n",
       "      <td>0.391195</td>\n",
       "      <td>0.175900</td>\n",
       "      <td>0.556824</td>\n",
       "      <td>-0.181276</td>\n",
       "      <td>-0.040134</td>\n",
       "      <td>...</td>\n",
       "      <td>-0.043681</td>\n",
       "      <td>-0.010410</td>\n",
       "      <td>0.217939</td>\n",
       "      <td>-0.163525</td>\n",
       "      <td>0.487350</td>\n",
       "      <td>0.223506</td>\n",
       "      <td>-0.029060</td>\n",
       "      <td>0.024871</td>\n",
       "      <td>-0.049890</td>\n",
       "      <td>-0.699608</td>\n",
       "    </tr>\n",
       "    <tr>\n",
       "      <th>Links_in_tags</th>\n",
       "      <td>0.163663</td>\n",
       "      <td>0.052526</td>\n",
       "      <td>0.157952</td>\n",
       "      <td>0.199166</td>\n",
       "      <td>0.150902</td>\n",
       "      <td>0.132448</td>\n",
       "      <td>0.109220</td>\n",
       "      <td>0.141122</td>\n",
       "      <td>-0.119723</td>\n",
       "      <td>0.115528</td>\n",
       "      <td>...</td>\n",
       "      <td>0.132304</td>\n",
       "      <td>0.088508</td>\n",
       "      <td>0.137087</td>\n",
       "      <td>-0.030885</td>\n",
       "      <td>0.089380</td>\n",
       "      <td>0.074158</td>\n",
       "      <td>-0.086036</td>\n",
       "      <td>0.011114</td>\n",
       "      <td>0.095194</td>\n",
       "      <td>-0.204575</td>\n",
       "    </tr>\n",
       "    <tr>\n",
       "      <th>SFH</th>\n",
       "      <td>0.101958</td>\n",
       "      <td>0.955345</td>\n",
       "      <td>0.092062</td>\n",
       "      <td>0.079919</td>\n",
       "      <td>0.101427</td>\n",
       "      <td>0.086695</td>\n",
       "      <td>-0.003418</td>\n",
       "      <td>0.051882</td>\n",
       "      <td>-0.345925</td>\n",
       "      <td>0.058913</td>\n",
       "      <td>...</td>\n",
       "      <td>0.050969</td>\n",
       "      <td>0.013637</td>\n",
       "      <td>0.022732</td>\n",
       "      <td>0.043271</td>\n",
       "      <td>0.036368</td>\n",
       "      <td>0.003103</td>\n",
       "      <td>-0.036108</td>\n",
       "      <td>0.014780</td>\n",
       "      <td>0.060791</td>\n",
       "      <td>-0.067708</td>\n",
       "    </tr>\n",
       "    <tr>\n",
       "      <th>Submitting_to_email</th>\n",
       "      <td>0.041750</td>\n",
       "      <td>0.020944</td>\n",
       "      <td>0.051661</td>\n",
       "      <td>-0.105161</td>\n",
       "      <td>0.041380</td>\n",
       "      <td>0.015079</td>\n",
       "      <td>-0.036241</td>\n",
       "      <td>-0.013900</td>\n",
       "      <td>-0.037452</td>\n",
       "      <td>0.695161</td>\n",
       "      <td>...</td>\n",
       "      <td>0.657351</td>\n",
       "      <td>0.603189</td>\n",
       "      <td>0.006117</td>\n",
       "      <td>0.108042</td>\n",
       "      <td>0.037392</td>\n",
       "      <td>-0.031169</td>\n",
       "      <td>-0.013329</td>\n",
       "      <td>0.047235</td>\n",
       "      <td>0.778628</td>\n",
       "      <td>0.012178</td>\n",
       "    </tr>\n",
       "    <tr>\n",
       "      <th>Abnormal_URL</th>\n",
       "      <td>0.793604</td>\n",
       "      <td>0.113288</td>\n",
       "      <td>0.782109</td>\n",
       "      <td>-0.086973</td>\n",
       "      <td>0.765479</td>\n",
       "      <td>0.093816</td>\n",
       "      <td>0.014947</td>\n",
       "      <td>0.035320</td>\n",
       "      <td>-0.076941</td>\n",
       "      <td>0.084622</td>\n",
       "      <td>...</td>\n",
       "      <td>0.100475</td>\n",
       "      <td>0.024947</td>\n",
       "      <td>0.023826</td>\n",
       "      <td>0.200251</td>\n",
       "      <td>0.085074</td>\n",
       "      <td>-0.016856</td>\n",
       "      <td>-0.058485</td>\n",
       "      <td>0.174519</td>\n",
       "      <td>0.439521</td>\n",
       "      <td>-0.052093</td>\n",
       "    </tr>\n",
       "    <tr>\n",
       "      <th>Redirect</th>\n",
       "      <td>0.871217</td>\n",
       "      <td>0.093132</td>\n",
       "      <td>0.838347</td>\n",
       "      <td>-0.082659</td>\n",
       "      <td>0.908683</td>\n",
       "      <td>0.098411</td>\n",
       "      <td>0.010354</td>\n",
       "      <td>0.042827</td>\n",
       "      <td>-0.104226</td>\n",
       "      <td>0.042757</td>\n",
       "      <td>...</td>\n",
       "      <td>0.056560</td>\n",
       "      <td>0.027814</td>\n",
       "      <td>0.020913</td>\n",
       "      <td>0.218879</td>\n",
       "      <td>0.106026</td>\n",
       "      <td>-0.012949</td>\n",
       "      <td>-0.050821</td>\n",
       "      <td>0.252307</td>\n",
       "      <td>0.149846</td>\n",
       "      <td>-0.052760</td>\n",
       "    </tr>\n",
       "    <tr>\n",
       "      <th>on_mouseover</th>\n",
       "      <td>0.068395</td>\n",
       "      <td>0.044352</td>\n",
       "      <td>0.070466</td>\n",
       "      <td>-0.087900</td>\n",
       "      <td>0.097654</td>\n",
       "      <td>-0.037483</td>\n",
       "      <td>0.018635</td>\n",
       "      <td>-0.033410</td>\n",
       "      <td>-0.030713</td>\n",
       "      <td>0.717526</td>\n",
       "      <td>...</td>\n",
       "      <td>0.740491</td>\n",
       "      <td>0.677961</td>\n",
       "      <td>-0.012161</td>\n",
       "      <td>0.135049</td>\n",
       "      <td>0.047926</td>\n",
       "      <td>-0.038621</td>\n",
       "      <td>-0.027303</td>\n",
       "      <td>0.040164</td>\n",
       "      <td>0.598975</td>\n",
       "      <td>0.042706</td>\n",
       "    </tr>\n",
       "    <tr>\n",
       "      <th>RightClick</th>\n",
       "      <td>0.039746</td>\n",
       "      <td>0.009627</td>\n",
       "      <td>0.032088</td>\n",
       "      <td>-0.050515</td>\n",
       "      <td>0.030268</td>\n",
       "      <td>0.001520</td>\n",
       "      <td>-0.042084</td>\n",
       "      <td>-0.023481</td>\n",
       "      <td>-0.045459</td>\n",
       "      <td>0.424228</td>\n",
       "      <td>...</td>\n",
       "      <td>0.425548</td>\n",
       "      <td>0.660536</td>\n",
       "      <td>-0.016487</td>\n",
       "      <td>0.065642</td>\n",
       "      <td>0.044430</td>\n",
       "      <td>-0.026060</td>\n",
       "      <td>-0.014725</td>\n",
       "      <td>0.128596</td>\n",
       "      <td>0.429018</td>\n",
       "      <td>0.006811</td>\n",
       "    </tr>\n",
       "    <tr>\n",
       "      <th>popUpWidnow</th>\n",
       "      <td>0.049965</td>\n",
       "      <td>0.053432</td>\n",
       "      <td>0.045988</td>\n",
       "      <td>-0.118706</td>\n",
       "      <td>0.066721</td>\n",
       "      <td>-0.010835</td>\n",
       "      <td>0.007021</td>\n",
       "      <td>0.003094</td>\n",
       "      <td>-0.070668</td>\n",
       "      <td>0.942697</td>\n",
       "      <td>...</td>\n",
       "      <td>1.000000</td>\n",
       "      <td>0.644246</td>\n",
       "      <td>0.012625</td>\n",
       "      <td>0.169277</td>\n",
       "      <td>0.065400</td>\n",
       "      <td>-0.039746</td>\n",
       "      <td>-0.024593</td>\n",
       "      <td>0.126111</td>\n",
       "      <td>0.624629</td>\n",
       "      <td>0.002677</td>\n",
       "    </tr>\n",
       "    <tr>\n",
       "      <th>Iframe</th>\n",
       "      <td>0.028537</td>\n",
       "      <td>0.012847</td>\n",
       "      <td>0.018059</td>\n",
       "      <td>-0.076476</td>\n",
       "      <td>0.015559</td>\n",
       "      <td>0.011677</td>\n",
       "      <td>-0.031687</td>\n",
       "      <td>-0.002762</td>\n",
       "      <td>-0.021585</td>\n",
       "      <td>0.643493</td>\n",
       "      <td>...</td>\n",
       "      <td>0.644246</td>\n",
       "      <td>1.000000</td>\n",
       "      <td>-0.016888</td>\n",
       "      <td>0.083949</td>\n",
       "      <td>0.052646</td>\n",
       "      <td>-0.033089</td>\n",
       "      <td>-0.010414</td>\n",
       "      <td>0.144012</td>\n",
       "      <td>0.563885</td>\n",
       "      <td>-0.007565</td>\n",
       "    </tr>\n",
       "    <tr>\n",
       "      <th>age_of_domain</th>\n",
       "      <td>0.050481</td>\n",
       "      <td>0.014283</td>\n",
       "      <td>0.056724</td>\n",
       "      <td>0.035179</td>\n",
       "      <td>0.037953</td>\n",
       "      <td>0.178187</td>\n",
       "      <td>0.338584</td>\n",
       "      <td>0.365856</td>\n",
       "      <td>-0.126950</td>\n",
       "      <td>0.008309</td>\n",
       "      <td>...</td>\n",
       "      <td>0.012625</td>\n",
       "      <td>-0.016888</td>\n",
       "      <td>1.000000</td>\n",
       "      <td>-0.035377</td>\n",
       "      <td>0.112470</td>\n",
       "      <td>0.124503</td>\n",
       "      <td>-0.078618</td>\n",
       "      <td>0.046290</td>\n",
       "      <td>-0.018722</td>\n",
       "      <td>-0.300330</td>\n",
       "    </tr>\n",
       "    <tr>\n",
       "      <th>DNSRecord</th>\n",
       "      <td>0.228888</td>\n",
       "      <td>0.051523</td>\n",
       "      <td>0.241016</td>\n",
       "      <td>-0.107532</td>\n",
       "      <td>0.233517</td>\n",
       "      <td>-0.070127</td>\n",
       "      <td>-0.061389</td>\n",
       "      <td>-0.137868</td>\n",
       "      <td>0.033052</td>\n",
       "      <td>0.164356</td>\n",
       "      <td>...</td>\n",
       "      <td>0.169277</td>\n",
       "      <td>0.083949</td>\n",
       "      <td>-0.035377</td>\n",
       "      <td>1.000000</td>\n",
       "      <td>-0.112017</td>\n",
       "      <td>-0.104896</td>\n",
       "      <td>-0.002519</td>\n",
       "      <td>0.475161</td>\n",
       "      <td>0.136009</td>\n",
       "      <td>0.183854</td>\n",
       "    </tr>\n",
       "    <tr>\n",
       "      <th>web_traffic</th>\n",
       "      <td>0.106839</td>\n",
       "      <td>0.024704</td>\n",
       "      <td>0.095182</td>\n",
       "      <td>-0.066232</td>\n",
       "      <td>0.112327</td>\n",
       "      <td>0.241684</td>\n",
       "      <td>0.080901</td>\n",
       "      <td>0.408251</td>\n",
       "      <td>-0.201828</td>\n",
       "      <td>0.079784</td>\n",
       "      <td>...</td>\n",
       "      <td>0.065400</td>\n",
       "      <td>0.052646</td>\n",
       "      <td>0.112470</td>\n",
       "      <td>-0.112017</td>\n",
       "      <td>1.000000</td>\n",
       "      <td>0.184583</td>\n",
       "      <td>-0.068261</td>\n",
       "      <td>-0.001423</td>\n",
       "      <td>0.056010</td>\n",
       "      <td>-0.535545</td>\n",
       "    </tr>\n",
       "    <tr>\n",
       "      <th>Page_Rank</th>\n",
       "      <td>-0.016420</td>\n",
       "      <td>0.000726</td>\n",
       "      <td>-0.027334</td>\n",
       "      <td>0.038937</td>\n",
       "      <td>-0.015349</td>\n",
       "      <td>0.219008</td>\n",
       "      <td>0.097460</td>\n",
       "      <td>0.277823</td>\n",
       "      <td>-0.039803</td>\n",
       "      <td>-0.032929</td>\n",
       "      <td>...</td>\n",
       "      <td>-0.039746</td>\n",
       "      <td>-0.033089</td>\n",
       "      <td>0.124503</td>\n",
       "      <td>-0.104896</td>\n",
       "      <td>0.184583</td>\n",
       "      <td>1.000000</td>\n",
       "      <td>0.022426</td>\n",
       "      <td>-0.030756</td>\n",
       "      <td>-0.044962</td>\n",
       "      <td>-0.350812</td>\n",
       "    </tr>\n",
       "    <tr>\n",
       "      <th>Google_Index</th>\n",
       "      <td>-0.047548</td>\n",
       "      <td>-0.026701</td>\n",
       "      <td>-0.043555</td>\n",
       "      <td>-0.029553</td>\n",
       "      <td>-0.046161</td>\n",
       "      <td>-0.164327</td>\n",
       "      <td>-0.051731</td>\n",
       "      <td>-0.137412</td>\n",
       "      <td>0.071476</td>\n",
       "      <td>-0.024208</td>\n",
       "      <td>...</td>\n",
       "      <td>-0.024593</td>\n",
       "      <td>-0.010414</td>\n",
       "      <td>-0.078618</td>\n",
       "      <td>-0.002519</td>\n",
       "      <td>-0.068261</td>\n",
       "      <td>0.022426</td>\n",
       "      <td>1.000000</td>\n",
       "      <td>-0.014767</td>\n",
       "      <td>-0.025882</td>\n",
       "      <td>0.151763</td>\n",
       "    </tr>\n",
       "    <tr>\n",
       "      <th>Links_pointing_to_page</th>\n",
       "      <td>0.244556</td>\n",
       "      <td>-0.007836</td>\n",
       "      <td>0.213561</td>\n",
       "      <td>-0.088749</td>\n",
       "      <td>0.202975</td>\n",
       "      <td>0.069498</td>\n",
       "      <td>-0.022250</td>\n",
       "      <td>-0.012810</td>\n",
       "      <td>0.105951</td>\n",
       "      <td>0.130500</td>\n",
       "      <td>...</td>\n",
       "      <td>0.126111</td>\n",
       "      <td>0.144012</td>\n",
       "      <td>0.046290</td>\n",
       "      <td>0.475161</td>\n",
       "      <td>-0.001423</td>\n",
       "      <td>-0.030756</td>\n",
       "      <td>-0.014767</td>\n",
       "      <td>1.000000</td>\n",
       "      <td>0.105349</td>\n",
       "      <td>-0.035779</td>\n",
       "    </tr>\n",
       "    <tr>\n",
       "      <th>Statistical_report</th>\n",
       "      <td>0.215134</td>\n",
       "      <td>0.084554</td>\n",
       "      <td>0.219520</td>\n",
       "      <td>-0.102878</td>\n",
       "      <td>0.207816</td>\n",
       "      <td>0.012800</td>\n",
       "      <td>-0.018942</td>\n",
       "      <td>-0.023872</td>\n",
       "      <td>-0.026921</td>\n",
       "      <td>0.656712</td>\n",
       "      <td>...</td>\n",
       "      <td>0.624629</td>\n",
       "      <td>0.563885</td>\n",
       "      <td>-0.018722</td>\n",
       "      <td>0.136009</td>\n",
       "      <td>0.056010</td>\n",
       "      <td>-0.044962</td>\n",
       "      <td>-0.025882</td>\n",
       "      <td>0.105349</td>\n",
       "      <td>1.000000</td>\n",
       "      <td>0.021377</td>\n",
       "    </tr>\n",
       "    <tr>\n",
       "      <th>Result</th>\n",
       "      <td>-0.061623</td>\n",
       "      <td>-0.055605</td>\n",
       "      <td>-0.061175</td>\n",
       "      <td>0.008336</td>\n",
       "      <td>-0.042536</td>\n",
       "      <td>-0.537020</td>\n",
       "      <td>-0.266514</td>\n",
       "      <td>-0.712876</td>\n",
       "      <td>0.260157</td>\n",
       "      <td>0.005067</td>\n",
       "      <td>...</td>\n",
       "      <td>0.002677</td>\n",
       "      <td>-0.007565</td>\n",
       "      <td>-0.300330</td>\n",
       "      <td>0.183854</td>\n",
       "      <td>-0.535545</td>\n",
       "      <td>-0.350812</td>\n",
       "      <td>0.151763</td>\n",
       "      <td>-0.035779</td>\n",
       "      <td>0.021377</td>\n",
       "      <td>1.000000</td>\n",
       "    </tr>\n",
       "  </tbody>\n",
       "</table>\n",
       "<p>31 rows × 31 columns</p>\n",
       "</div>"
      ],
      "text/plain": [
       "                             having_IP_Address  URL_Length  \\\n",
       "having_IP_Address                     1.000000    0.103582   \n",
       "URL_Length                            0.103582    1.000000   \n",
       "Shortining_Service                    0.946315    0.119039   \n",
       "having_At_Symbol                     -0.085825    0.069272   \n",
       "double_slash_redirecting              0.920203    0.101536   \n",
       "Prefix_Suffix                         0.108087    0.068191   \n",
       "having_Sub_Domain                     0.018615   -0.012365   \n",
       "SSLfinal_State                        0.043557    0.041580   \n",
       "Domain_registeration_length          -0.098534   -0.326758   \n",
       "Favicon                               0.030326    0.045295   \n",
       "port                                  0.016614   -0.000402   \n",
       "HTTPS_token                           0.817315    0.109150   \n",
       "Request_URL                           0.046739    0.251531   \n",
       "URL_of_Anchor                        -0.009763   -0.026090   \n",
       "Links_in_tags                         0.163663    0.052526   \n",
       "SFH                                   0.101958    0.955345   \n",
       "Submitting_to_email                   0.041750    0.020944   \n",
       "Abnormal_URL                          0.793604    0.113288   \n",
       "Redirect                              0.871217    0.093132   \n",
       "on_mouseover                          0.068395    0.044352   \n",
       "RightClick                            0.039746    0.009627   \n",
       "popUpWidnow                           0.049965    0.053432   \n",
       "Iframe                                0.028537    0.012847   \n",
       "age_of_domain                         0.050481    0.014283   \n",
       "DNSRecord                             0.228888    0.051523   \n",
       "web_traffic                           0.106839    0.024704   \n",
       "Page_Rank                            -0.016420    0.000726   \n",
       "Google_Index                         -0.047548   -0.026701   \n",
       "Links_pointing_to_page                0.244556   -0.007836   \n",
       "Statistical_report                    0.215134    0.084554   \n",
       "Result                               -0.061623   -0.055605   \n",
       "\n",
       "                             Shortining_Service  having_At_Symbol  \\\n",
       "having_IP_Address                      0.946315         -0.085825   \n",
       "URL_Length                             0.119039          0.069272   \n",
       "Shortining_Service                     1.000000         -0.068114   \n",
       "having_At_Symbol                      -0.068114          1.000000   \n",
       "double_slash_redirecting               0.876519         -0.090966   \n",
       "Prefix_Suffix                          0.111831          0.026929   \n",
       "having_Sub_Domain                      0.027941          0.001966   \n",
       "SSLfinal_State                         0.052711         -0.004449   \n",
       "Domain_registeration_length           -0.089549         -0.001145   \n",
       "Favicon                                0.014858         -0.116249   \n",
       "port                                   0.004264         -0.094976   \n",
       "HTTPS_token                            0.795787         -0.075699   \n",
       "Request_URL                            0.044220         -0.000345   \n",
       "URL_of_Anchor                         -0.009805         -0.035492   \n",
       "Links_in_tags                          0.157952          0.199166   \n",
       "SFH                                    0.092062          0.079919   \n",
       "Submitting_to_email                    0.051661         -0.105161   \n",
       "Abnormal_URL                           0.782109         -0.086973   \n",
       "Redirect                               0.838347         -0.082659   \n",
       "on_mouseover                           0.070466         -0.087900   \n",
       "RightClick                             0.032088         -0.050515   \n",
       "popUpWidnow                            0.045988         -0.118706   \n",
       "Iframe                                 0.018059         -0.076476   \n",
       "age_of_domain                          0.056724          0.035179   \n",
       "DNSRecord                              0.241016         -0.107532   \n",
       "web_traffic                            0.095182         -0.066232   \n",
       "Page_Rank                             -0.027334          0.038937   \n",
       "Google_Index                          -0.043555         -0.029553   \n",
       "Links_pointing_to_page                 0.213561         -0.088749   \n",
       "Statistical_report                     0.219520         -0.102878   \n",
       "Result                                -0.061175          0.008336   \n",
       "\n",
       "                             double_slash_redirecting  Prefix_Suffix  \\\n",
       "having_IP_Address                            0.920203       0.108087   \n",
       "URL_Length                                   0.101536       0.068191   \n",
       "Shortining_Service                           0.876519       0.111831   \n",
       "having_At_Symbol                            -0.090966       0.026929   \n",
       "double_slash_redirecting                     1.000000       0.106398   \n",
       "Prefix_Suffix                                0.106398       1.000000   \n",
       "having_Sub_Domain                            0.020216       0.115494   \n",
       "SSLfinal_State                               0.031330       0.372453   \n",
       "Domain_registeration_length                 -0.092049      -0.139030   \n",
       "Favicon                                      0.048790      -0.020312   \n",
       "port                                         0.030078      -0.005950   \n",
       "HTTPS_token                                  0.785873       0.072907   \n",
       "Request_URL                                  0.039871       0.073908   \n",
       "URL_of_Anchor                                0.001426       0.391195   \n",
       "Links_in_tags                                0.150902       0.132448   \n",
       "SFH                                          0.101427       0.086695   \n",
       "Submitting_to_email                          0.041380       0.015079   \n",
       "Abnormal_URL                                 0.765479       0.093816   \n",
       "Redirect                                     0.908683       0.098411   \n",
       "on_mouseover                                 0.097654      -0.037483   \n",
       "RightClick                                   0.030268       0.001520   \n",
       "popUpWidnow                                  0.066721      -0.010835   \n",
       "Iframe                                       0.015559       0.011677   \n",
       "age_of_domain                                0.037953       0.178187   \n",
       "DNSRecord                                    0.233517      -0.070127   \n",
       "web_traffic                                  0.112327       0.241684   \n",
       "Page_Rank                                   -0.015349       0.219008   \n",
       "Google_Index                                -0.046161      -0.164327   \n",
       "Links_pointing_to_page                       0.202975       0.069498   \n",
       "Statistical_report                           0.207816       0.012800   \n",
       "Result                                      -0.042536      -0.537020   \n",
       "\n",
       "                             having_Sub_Domain  SSLfinal_State  \\\n",
       "having_IP_Address                     0.018615        0.043557   \n",
       "URL_Length                           -0.012365        0.041580   \n",
       "Shortining_Service                    0.027941        0.052711   \n",
       "having_At_Symbol                      0.001966       -0.004449   \n",
       "double_slash_redirecting              0.020216        0.031330   \n",
       "Prefix_Suffix                         0.115494        0.372453   \n",
       "having_Sub_Domain                     1.000000        0.259734   \n",
       "SSLfinal_State                        0.259734        1.000000   \n",
       "Domain_registeration_length          -0.049267       -0.219062   \n",
       "Favicon                              -0.017455        0.005514   \n",
       "port                                 -0.036172       -0.040331   \n",
       "HTTPS_token                           0.018198        0.025851   \n",
       "Request_URL                           0.062708        0.188101   \n",
       "URL_of_Anchor                         0.175900        0.556824   \n",
       "Links_in_tags                         0.109220        0.141122   \n",
       "SFH                                  -0.003418        0.051882   \n",
       "Submitting_to_email                  -0.036241       -0.013900   \n",
       "Abnormal_URL                          0.014947        0.035320   \n",
       "Redirect                              0.010354        0.042827   \n",
       "on_mouseover                          0.018635       -0.033410   \n",
       "RightClick                           -0.042084       -0.023481   \n",
       "popUpWidnow                           0.007021        0.003094   \n",
       "Iframe                               -0.031687       -0.002762   \n",
       "age_of_domain                         0.338584        0.365856   \n",
       "DNSRecord                            -0.061389       -0.137868   \n",
       "web_traffic                           0.080901        0.408251   \n",
       "Page_Rank                             0.097460        0.277823   \n",
       "Google_Index                         -0.051731       -0.137412   \n",
       "Links_pointing_to_page               -0.022250       -0.012810   \n",
       "Statistical_report                   -0.018942       -0.023872   \n",
       "Result                               -0.266514       -0.712876   \n",
       "\n",
       "                             Domain_registeration_length   Favicon  ...  \\\n",
       "having_IP_Address                              -0.098534  0.030326  ...   \n",
       "URL_Length                                     -0.326758  0.045295  ...   \n",
       "Shortining_Service                             -0.089549  0.014858  ...   \n",
       "having_At_Symbol                               -0.001145 -0.116249  ...   \n",
       "double_slash_redirecting                       -0.092049  0.048790  ...   \n",
       "Prefix_Suffix                                  -0.139030 -0.020312  ...   \n",
       "having_Sub_Domain                              -0.049267 -0.017455  ...   \n",
       "SSLfinal_State                                 -0.219062  0.005514  ...   \n",
       "Domain_registeration_length                     1.000000 -0.065988  ...   \n",
       "Favicon                                        -0.065988  1.000000  ...   \n",
       "port                                           -0.027177  0.810932  ...   \n",
       "HTTPS_token                                    -0.090863  0.037471  ...   \n",
       "Request_URL                                    -0.683894  0.011568  ...   \n",
       "URL_of_Anchor                                  -0.181276 -0.040134  ...   \n",
       "Links_in_tags                                  -0.119723  0.115528  ...   \n",
       "SFH                                            -0.345925  0.058913  ...   \n",
       "Submitting_to_email                            -0.037452  0.695161  ...   \n",
       "Abnormal_URL                                   -0.076941  0.084622  ...   \n",
       "Redirect                                       -0.104226  0.042757  ...   \n",
       "on_mouseover                                   -0.030713  0.717526  ...   \n",
       "RightClick                                     -0.045459  0.424228  ...   \n",
       "popUpWidnow                                    -0.070668  0.942697  ...   \n",
       "Iframe                                         -0.021585  0.643493  ...   \n",
       "age_of_domain                                  -0.126950  0.008309  ...   \n",
       "DNSRecord                                       0.033052  0.164356  ...   \n",
       "web_traffic                                    -0.201828  0.079784  ...   \n",
       "Page_Rank                                      -0.039803 -0.032929  ...   \n",
       "Google_Index                                    0.071476 -0.024208  ...   \n",
       "Links_pointing_to_page                          0.105951  0.130500  ...   \n",
       "Statistical_report                             -0.026921  0.656712  ...   \n",
       "Result                                          0.260157  0.005067  ...   \n",
       "\n",
       "                             popUpWidnow    Iframe  age_of_domain  DNSRecord  \\\n",
       "having_IP_Address               0.049965  0.028537       0.050481   0.228888   \n",
       "URL_Length                      0.053432  0.012847       0.014283   0.051523   \n",
       "Shortining_Service              0.045988  0.018059       0.056724   0.241016   \n",
       "having_At_Symbol               -0.118706 -0.076476       0.035179  -0.107532   \n",
       "double_slash_redirecting        0.066721  0.015559       0.037953   0.233517   \n",
       "Prefix_Suffix                  -0.010835  0.011677       0.178187  -0.070127   \n",
       "having_Sub_Domain               0.007021 -0.031687       0.338584  -0.061389   \n",
       "SSLfinal_State                  0.003094 -0.002762       0.365856  -0.137868   \n",
       "Domain_registeration_length    -0.070668 -0.021585      -0.126950   0.033052   \n",
       "Favicon                         0.942697  0.643493       0.008309   0.164356   \n",
       "port                            0.752122  0.698097      -0.003699   0.109456   \n",
       "HTTPS_token                     0.052170  0.006695       0.044026   0.221514   \n",
       "Request_URL                     0.016514 -0.003116       0.094372  -0.056274   \n",
       "URL_of_Anchor                  -0.043681 -0.010410       0.217939  -0.163525   \n",
       "Links_in_tags                   0.132304  0.088508       0.137087  -0.030885   \n",
       "SFH                             0.050969  0.013637       0.022732   0.043271   \n",
       "Submitting_to_email             0.657351  0.603189       0.006117   0.108042   \n",
       "Abnormal_URL                    0.100475  0.024947       0.023826   0.200251   \n",
       "Redirect                        0.056560  0.027814       0.020913   0.218879   \n",
       "on_mouseover                    0.740491  0.677961      -0.012161   0.135049   \n",
       "RightClick                      0.425548  0.660536      -0.016487   0.065642   \n",
       "popUpWidnow                     1.000000  0.644246       0.012625   0.169277   \n",
       "Iframe                          0.644246  1.000000      -0.016888   0.083949   \n",
       "age_of_domain                   0.012625 -0.016888       1.000000  -0.035377   \n",
       "DNSRecord                       0.169277  0.083949      -0.035377   1.000000   \n",
       "web_traffic                     0.065400  0.052646       0.112470  -0.112017   \n",
       "Page_Rank                      -0.039746 -0.033089       0.124503  -0.104896   \n",
       "Google_Index                   -0.024593 -0.010414      -0.078618  -0.002519   \n",
       "Links_pointing_to_page          0.126111  0.144012       0.046290   0.475161   \n",
       "Statistical_report              0.624629  0.563885      -0.018722   0.136009   \n",
       "Result                          0.002677 -0.007565      -0.300330   0.183854   \n",
       "\n",
       "                             web_traffic  Page_Rank  Google_Index  \\\n",
       "having_IP_Address               0.106839  -0.016420     -0.047548   \n",
       "URL_Length                      0.024704   0.000726     -0.026701   \n",
       "Shortining_Service              0.095182  -0.027334     -0.043555   \n",
       "having_At_Symbol               -0.066232   0.038937     -0.029553   \n",
       "double_slash_redirecting        0.112327  -0.015349     -0.046161   \n",
       "Prefix_Suffix                   0.241684   0.219008     -0.164327   \n",
       "having_Sub_Domain               0.080901   0.097460     -0.051731   \n",
       "SSLfinal_State                  0.408251   0.277823     -0.137412   \n",
       "Domain_registeration_length    -0.201828  -0.039803      0.071476   \n",
       "Favicon                         0.079784  -0.032929     -0.024208   \n",
       "port                            0.055526  -0.025905     -0.015001   \n",
       "HTTPS_token                     0.071841  -0.042402     -0.067295   \n",
       "Request_URL                     0.229900   0.021668     -0.064721   \n",
       "URL_of_Anchor                   0.487350   0.223506     -0.029060   \n",
       "Links_in_tags                   0.089380   0.074158     -0.086036   \n",
       "SFH                             0.036368   0.003103     -0.036108   \n",
       "Submitting_to_email             0.037392  -0.031169     -0.013329   \n",
       "Abnormal_URL                    0.085074  -0.016856     -0.058485   \n",
       "Redirect                        0.106026  -0.012949     -0.050821   \n",
       "on_mouseover                    0.047926  -0.038621     -0.027303   \n",
       "RightClick                      0.044430  -0.026060     -0.014725   \n",
       "popUpWidnow                     0.065400  -0.039746     -0.024593   \n",
       "Iframe                          0.052646  -0.033089     -0.010414   \n",
       "age_of_domain                   0.112470   0.124503     -0.078618   \n",
       "DNSRecord                      -0.112017  -0.104896     -0.002519   \n",
       "web_traffic                     1.000000   0.184583     -0.068261   \n",
       "Page_Rank                       0.184583   1.000000      0.022426   \n",
       "Google_Index                   -0.068261   0.022426      1.000000   \n",
       "Links_pointing_to_page         -0.001423  -0.030756     -0.014767   \n",
       "Statistical_report              0.056010  -0.044962     -0.025882   \n",
       "Result                         -0.535545  -0.350812      0.151763   \n",
       "\n",
       "                             Links_pointing_to_page  Statistical_report  \\\n",
       "having_IP_Address                          0.244556            0.215134   \n",
       "URL_Length                                -0.007836            0.084554   \n",
       "Shortining_Service                         0.213561            0.219520   \n",
       "having_At_Symbol                          -0.088749           -0.102878   \n",
       "double_slash_redirecting                   0.202975            0.207816   \n",
       "Prefix_Suffix                              0.069498            0.012800   \n",
       "having_Sub_Domain                         -0.022250           -0.018942   \n",
       "SSLfinal_State                            -0.012810           -0.023872   \n",
       "Domain_registeration_length                0.105951           -0.026921   \n",
       "Favicon                                    0.130500            0.656712   \n",
       "port                                       0.141609            0.728270   \n",
       "HTTPS_token                                0.133185            0.235538   \n",
       "Request_URL                               -0.063752           -0.006489   \n",
       "URL_of_Anchor                              0.024871           -0.049890   \n",
       "Links_in_tags                              0.011114            0.095194   \n",
       "SFH                                        0.014780            0.060791   \n",
       "Submitting_to_email                        0.047235            0.778628   \n",
       "Abnormal_URL                               0.174519            0.439521   \n",
       "Redirect                                   0.252307            0.149846   \n",
       "on_mouseover                               0.040164            0.598975   \n",
       "RightClick                                 0.128596            0.429018   \n",
       "popUpWidnow                                0.126111            0.624629   \n",
       "Iframe                                     0.144012            0.563885   \n",
       "age_of_domain                              0.046290           -0.018722   \n",
       "DNSRecord                                  0.475161            0.136009   \n",
       "web_traffic                               -0.001423            0.056010   \n",
       "Page_Rank                                 -0.030756           -0.044962   \n",
       "Google_Index                              -0.014767           -0.025882   \n",
       "Links_pointing_to_page                     1.000000            0.105349   \n",
       "Statistical_report                         0.105349            1.000000   \n",
       "Result                                    -0.035779            0.021377   \n",
       "\n",
       "                               Result  \n",
       "having_IP_Address           -0.061623  \n",
       "URL_Length                  -0.055605  \n",
       "Shortining_Service          -0.061175  \n",
       "having_At_Symbol             0.008336  \n",
       "double_slash_redirecting    -0.042536  \n",
       "Prefix_Suffix               -0.537020  \n",
       "having_Sub_Domain           -0.266514  \n",
       "SSLfinal_State              -0.712876  \n",
       "Domain_registeration_length  0.260157  \n",
       "Favicon                      0.005067  \n",
       "port                         0.038609  \n",
       "HTTPS_token                 -0.039071  \n",
       "Request_URL                 -0.243759  \n",
       "URL_of_Anchor               -0.699608  \n",
       "Links_in_tags               -0.204575  \n",
       "SFH                         -0.067708  \n",
       "Submitting_to_email          0.012178  \n",
       "Abnormal_URL                -0.052093  \n",
       "Redirect                    -0.052760  \n",
       "on_mouseover                 0.042706  \n",
       "RightClick                   0.006811  \n",
       "popUpWidnow                  0.002677  \n",
       "Iframe                      -0.007565  \n",
       "age_of_domain               -0.300330  \n",
       "DNSRecord                    0.183854  \n",
       "web_traffic                 -0.535545  \n",
       "Page_Rank                   -0.350812  \n",
       "Google_Index                 0.151763  \n",
       "Links_pointing_to_page      -0.035779  \n",
       "Statistical_report           0.021377  \n",
       "Result                       1.000000  \n",
       "\n",
       "[31 rows x 31 columns]"
      ]
     },
     "execution_count": 31,
     "metadata": {},
     "output_type": "execute_result"
    }
   ],
   "source": [
    "df.corr()"
   ]
  },
  {
   "cell_type": "code",
   "execution_count": 32,
   "id": "fd257ea9",
   "metadata": {},
   "outputs": [
    {
     "data": {
      "image/png": "[encoded data removed]",
      "text/plain": [
       "<Figure size 1440x1440 with 2 Axes>"
      ]
     },
     "metadata": {
      "needs_background": "light"
     },
     "output_type": "display_data"
    }
   ],
   "source": [
    "plt.figure(figsize=(20,20))\n",
    "sns.heatmap(df.corr(),linewidths=0.1,fmt='0.1f',annot=True)\n",
    "plt.show()"
   ]
  },
  {
   "cell_type": "code",
   "execution_count": 33,
   "id": "0d5fd47b",
   "metadata": {},
   "outputs": [
    {
     "data": {
      "image/png": "[encoded data removed]",
      "text/plain": [
       "<Figure size 1440x720 with 1 Axes>"
      ]
     },
     "metadata": {
      "needs_background": "light"
     },
     "output_type": "display_data"
    }
   ],
   "source": [
    "plt.figure(figsize=(20,10))\n",
    "sns.countplot(x='Google_Index',hue='Result' ,data=df)\n",
    "plt.show()"
   ]
  },
  {
   "cell_type": "code",
   "execution_count": 34,
   "id": "fb129d2d",
   "metadata": {},
   "outputs": [
    {
     "data": {
      "image/png": "[encoded data removed]",
      "text/plain": [
       "<Figure size 1440x720 with 1 Axes>"
      ]
     },
     "metadata": {
      "needs_background": "light"
     },
     "output_type": "display_data"
    }
   ],
   "source": [
    "plt.figure(figsize=(20,10))\n",
    "sns.countplot(x='DNSRecord',hue='Result' ,data=df)\n",
    "plt.show()"
   ]
  },
  {
   "cell_type": "code",
   "execution_count": 35,
   "id": "bfcb08ac",
   "metadata": {},
   "outputs": [
    {
     "data": {
      "image/png": "[encoded data removed]",
      "text/plain": [
       "<Figure size 1440x720 with 1 Axes>"
      ]
     },
     "metadata": {
      "needs_background": "light"
     },
     "output_type": "display_data"
    }
   ],
   "source": [
    "plt.figure(figsize=(20,10))\n",
    "sns.countplot(x='Domain_registeration_length',hue='Result' ,data=df)\n",
    "plt.show()"
   ]
  },
  {
   "cell_type": "code",
   "execution_count": 36,
   "id": "6e765691",
   "metadata": {},
   "outputs": [
    {
     "data": {
      "image/png": "[encoded data removed]",
      "text/plain": [
       "<Figure size 1440x720 with 1 Axes>"
      ]
     },
     "metadata": {
      "needs_background": "light"
     },
     "output_type": "display_data"
    }
   ],
   "source": [
    "plt.figure(figsize=(20,10))\n",
    "sns.countplot(x='having_IP_Address',hue='Result' ,data=df)\n",
    "plt.show()"
   ]
  },
  {
   "cell_type": "code",
   "execution_count": 37,
   "id": "3abda142",
   "metadata": {},
   "outputs": [
    {
     "data": {
      "image/png": "[encoded data removed]",
      "text/plain": [
       "<Figure size 1440x720 with 1 Axes>"
      ]
     },
     "metadata": {
      "needs_background": "light"
     },
     "output_type": "display_data"
    }
   ],
   "source": [
    "plt.figure(figsize=(20,10))\n",
    "sns.countplot(x='HTTPS_token',hue='Result' ,data=df)\n",
    "plt.show()"
   ]
  },
  {
   "cell_type": "markdown",
   "id": "9dbb051e",
   "metadata": {},
   "source": [
    "# Checking for Outliers:"
   ]
  },
  {
   "cell_type": "code",
   "execution_count": 38,
   "id": "d5133155",
   "metadata": {},
   "outputs": [],
   "source": [
    "X = df.drop(columns = ['Result'])\n",
    "y = df['Result']"
   ]
  },
  {
   "cell_type": "code",
   "execution_count": 41,
   "id": "3bf83597",
   "metadata": {},
   "outputs": [],
   "source": [
    "from scipy import stats"
   ]
  },
  {
   "cell_type": "code",
   "execution_count": 42,
   "id": "8d377e23",
   "metadata": {},
   "outputs": [
    {
     "name": "stdout",
     "output_type": "stream",
     "text": [
      "No outliers found in column: having_IP_Address\n",
      "No outliers found in column: URL_Length\n",
      "No outliers found in column: Shortining_Service\n",
      "Outliers found in column: having_At_Symbol\n"
     ]
    },
    {
     "data": {
      "image/png": "[encoded data removed]",
      "text/plain": [
       "<Figure size 432x288 with 1 Axes>"
      ]
     },
     "metadata": {
      "needs_background": "light"
     },
     "output_type": "display_data"
    },
    {
     "name": "stdout",
     "output_type": "stream",
     "text": [
      "No outliers found in column: double_slash_redirecting\n",
      "No outliers found in column: Prefix_Suffix\n",
      "No outliers found in column: having_Sub_Domain\n",
      "No outliers found in column: SSLfinal_State\n",
      "No outliers found in column: Domain_registeration_length\n",
      "No outliers found in column: Favicon\n",
      "No outliers found in column: port\n",
      "No outliers found in column: HTTPS_token\n",
      "No outliers found in column: Request_URL\n",
      "No outliers found in column: URL_of_Anchor\n",
      "No outliers found in column: Links_in_tags\n",
      "No outliers found in column: SFH\n",
      "No outliers found in column: Submitting_to_email\n",
      "No outliers found in column: Abnormal_URL\n",
      "No outliers found in column: Redirect\n",
      "No outliers found in column: on_mouseover\n",
      "Outliers found in column: RightClick\n"
     ]
    },
    {
     "data": {
      "image/png": "[encoded data removed]",
      "text/plain": [
       "<Figure size 432x288 with 1 Axes>"
      ]
     },
     "metadata": {
      "needs_background": "light"
     },
     "output_type": "display_data"
    },
    {
     "name": "stdout",
     "output_type": "stream",
     "text": [
      "No outliers found in column: popUpWidnow\n",
      "Outliers found in column: Iframe\n"
     ]
    },
    {
     "data": {
      "image/png": "[encoded data removed]",
      "text/plain": [
       "<Figure size 432x288 with 1 Axes>"
      ]
     },
     "metadata": {
      "needs_background": "light"
     },
     "output_type": "display_data"
    },
    {
     "name": "stdout",
     "output_type": "stream",
     "text": [
      "No outliers found in column: age_of_domain\n",
      "No outliers found in column: DNSRecord\n",
      "No outliers found in column: web_traffic\n",
      "No outliers found in column: Page_Rank\n",
      "No outliers found in column: Google_Index\n",
      "No outliers found in column: Links_pointing_to_page\n",
      "No outliers found in column: Statistical_report\n"
     ]
    }
   ],
   "source": [
    "# loop through each column\n",
    "for column in X.columns:\n",
    "    # calculate z-scores for each value in the column\n",
    "    z = np.abs(stats.zscore(df[column]))\n",
    "    # set threshold for z-scores \n",
    "    threshold = 3\n",
    "    # identify the rows that contain outliers\n",
    "    outliers = np.where(z > threshold)\n",
    "    # check if outliers are present\n",
    "    if len(outliers[0]) > 0:\n",
    "        print(\"Outliers found in column: \" + column)\n",
    "        # create box plot\n",
    "        plt.boxplot(X[column])\n",
    "        plt.title(column)\n",
    "        plt.show()\n",
    "    else:\n",
    "        print(\"No outliers found in column: \" + column)"
   ]
  },
  {
   "cell_type": "markdown",
   "id": "b2367ca2",
   "metadata": {},
   "source": [
    "# Zscore for removing Outliers:"
   ]
  },
  {
   "cell_type": "code",
   "execution_count": 43,
   "id": "f4c9e21d",
   "metadata": {},
   "outputs": [],
   "source": [
    "from scipy.stats import zscore"
   ]
  },
  {
   "cell_type": "code",
   "execution_count": 44,
   "id": "f1dbc871",
   "metadata": {},
   "outputs": [
    {
     "data": {
      "text/html": [
       "<div>\n",
       "<style scoped>\n",
       "    .dataframe tbody tr th:only-of-type {\n",
       "        vertical-align: middle;\n",
       "    }\n",
       "\n",
       "    .dataframe tbody tr th {\n",
       "        vertical-align: top;\n",
       "    }\n",
       "\n",
       "    .dataframe thead th {\n",
       "        text-align: right;\n",
       "    }\n",
       "</style>\n",
       "<table border=\"1\" class=\"dataframe\">\n",
       "  <thead>\n",
       "    <tr style=\"text-align: right;\">\n",
       "      <th></th>\n",
       "      <th>having_IP_Address</th>\n",
       "      <th>URL_Length</th>\n",
       "      <th>Shortining_Service</th>\n",
       "      <th>having_At_Symbol</th>\n",
       "      <th>double_slash_redirecting</th>\n",
       "      <th>Prefix_Suffix</th>\n",
       "      <th>having_Sub_Domain</th>\n",
       "      <th>SSLfinal_State</th>\n",
       "      <th>Domain_registeration_length</th>\n",
       "      <th>Favicon</th>\n",
       "      <th>...</th>\n",
       "      <th>popUpWidnow</th>\n",
       "      <th>Iframe</th>\n",
       "      <th>age_of_domain</th>\n",
       "      <th>DNSRecord</th>\n",
       "      <th>web_traffic</th>\n",
       "      <th>Page_Rank</th>\n",
       "      <th>Google_Index</th>\n",
       "      <th>Links_pointing_to_page</th>\n",
       "      <th>Statistical_report</th>\n",
       "      <th>Result</th>\n",
       "    </tr>\n",
       "  </thead>\n",
       "  <tbody>\n",
       "    <tr>\n",
       "      <th>0</th>\n",
       "      <td>1</td>\n",
       "      <td>1</td>\n",
       "      <td>0</td>\n",
       "      <td>0</td>\n",
       "      <td>1</td>\n",
       "      <td>-1</td>\n",
       "      <td>-1</td>\n",
       "      <td>-1</td>\n",
       "      <td>0</td>\n",
       "      <td>0</td>\n",
       "      <td>...</td>\n",
       "      <td>0</td>\n",
       "      <td>0</td>\n",
       "      <td>-1</td>\n",
       "      <td>1</td>\n",
       "      <td>-1</td>\n",
       "      <td>-1</td>\n",
       "      <td>0</td>\n",
       "      <td>1</td>\n",
       "      <td>1</td>\n",
       "      <td>1</td>\n",
       "    </tr>\n",
       "    <tr>\n",
       "      <th>1</th>\n",
       "      <td>0</td>\n",
       "      <td>1</td>\n",
       "      <td>0</td>\n",
       "      <td>0</td>\n",
       "      <td>0</td>\n",
       "      <td>-1</td>\n",
       "      <td>0</td>\n",
       "      <td>1</td>\n",
       "      <td>0</td>\n",
       "      <td>0</td>\n",
       "      <td>...</td>\n",
       "      <td>0</td>\n",
       "      <td>0</td>\n",
       "      <td>-1</td>\n",
       "      <td>1</td>\n",
       "      <td>0</td>\n",
       "      <td>-1</td>\n",
       "      <td>0</td>\n",
       "      <td>1</td>\n",
       "      <td>0</td>\n",
       "      <td>1</td>\n",
       "    </tr>\n",
       "    <tr>\n",
       "      <th>2</th>\n",
       "      <td>0</td>\n",
       "      <td>0</td>\n",
       "      <td>0</td>\n",
       "      <td>0</td>\n",
       "      <td>0</td>\n",
       "      <td>-1</td>\n",
       "      <td>-1</td>\n",
       "      <td>-1</td>\n",
       "      <td>0</td>\n",
       "      <td>0</td>\n",
       "      <td>...</td>\n",
       "      <td>0</td>\n",
       "      <td>0</td>\n",
       "      <td>0</td>\n",
       "      <td>1</td>\n",
       "      <td>1</td>\n",
       "      <td>-1</td>\n",
       "      <td>0</td>\n",
       "      <td>0</td>\n",
       "      <td>1</td>\n",
       "      <td>1</td>\n",
       "    </tr>\n",
       "    <tr>\n",
       "      <th>3</th>\n",
       "      <td>0</td>\n",
       "      <td>0</td>\n",
       "      <td>0</td>\n",
       "      <td>0</td>\n",
       "      <td>0</td>\n",
       "      <td>-1</td>\n",
       "      <td>-1</td>\n",
       "      <td>-1</td>\n",
       "      <td>1</td>\n",
       "      <td>0</td>\n",
       "      <td>...</td>\n",
       "      <td>0</td>\n",
       "      <td>0</td>\n",
       "      <td>-1</td>\n",
       "      <td>1</td>\n",
       "      <td>1</td>\n",
       "      <td>-1</td>\n",
       "      <td>0</td>\n",
       "      <td>-1</td>\n",
       "      <td>0</td>\n",
       "      <td>1</td>\n",
       "    </tr>\n",
       "    <tr>\n",
       "      <th>4</th>\n",
       "      <td>0</td>\n",
       "      <td>0</td>\n",
       "      <td>1</td>\n",
       "      <td>0</td>\n",
       "      <td>0</td>\n",
       "      <td>-1</td>\n",
       "      <td>1</td>\n",
       "      <td>1</td>\n",
       "      <td>0</td>\n",
       "      <td>0</td>\n",
       "      <td>...</td>\n",
       "      <td>1</td>\n",
       "      <td>0</td>\n",
       "      <td>-1</td>\n",
       "      <td>1</td>\n",
       "      <td>0</td>\n",
       "      <td>-1</td>\n",
       "      <td>0</td>\n",
       "      <td>1</td>\n",
       "      <td>0</td>\n",
       "      <td>0</td>\n",
       "    </tr>\n",
       "  </tbody>\n",
       "</table>\n",
       "<p>5 rows × 31 columns</p>\n",
       "</div>"
      ],
      "text/plain": [
       "   having_IP_Address  URL_Length  Shortining_Service  having_At_Symbol  \\\n",
       "0                  1           1                   0                 0   \n",
       "1                  0           1                   0                 0   \n",
       "2                  0           0                   0                 0   \n",
       "3                  0           0                   0                 0   \n",
       "4                  0           0                   1                 0   \n",
       "\n",
       "   double_slash_redirecting  Prefix_Suffix  having_Sub_Domain  SSLfinal_State  \\\n",
       "0                         1             -1                 -1              -1   \n",
       "1                         0             -1                  0               1   \n",
       "2                         0             -1                 -1              -1   \n",
       "3                         0             -1                 -1              -1   \n",
       "4                         0             -1                  1               1   \n",
       "\n",
       "   Domain_registeration_length  Favicon  ...  popUpWidnow  Iframe  \\\n",
       "0                            0        0  ...            0       0   \n",
       "1                            0        0  ...            0       0   \n",
       "2                            0        0  ...            0       0   \n",
       "3                            1        0  ...            0       0   \n",
       "4                            0        0  ...            1       0   \n",
       "\n",
       "   age_of_domain  DNSRecord  web_traffic  Page_Rank  Google_Index  \\\n",
       "0             -1          1           -1         -1             0   \n",
       "1             -1          1            0         -1             0   \n",
       "2              0          1            1         -1             0   \n",
       "3             -1          1            1         -1             0   \n",
       "4             -1          1            0         -1             0   \n",
       "\n",
       "   Links_pointing_to_page  Statistical_report  Result  \n",
       "0                       1                   1       1  \n",
       "1                       1                   0       1  \n",
       "2                       0                   1       1  \n",
       "3                      -1                   0       1  \n",
       "4                       1                   0       0  \n",
       "\n",
       "[5 rows x 31 columns]"
      ]
     },
     "execution_count": 44,
     "metadata": {},
     "output_type": "execute_result"
    }
   ],
   "source": [
    "df.head()"
   ]
  },
  {
   "cell_type": "code",
   "execution_count": 45,
   "id": "0f87bd96",
   "metadata": {},
   "outputs": [],
   "source": [
    "df1=  X[['having_At_Symbol','RightClick','Iframe']].copy()"
   ]
  },
  {
   "cell_type": "code",
   "execution_count": 46,
   "id": "27187e2a",
   "metadata": {},
   "outputs": [],
   "source": [
    "Z = zscore(df1)"
   ]
  },
  {
   "cell_type": "code",
   "execution_count": 47,
   "id": "ccf277bf",
   "metadata": {},
   "outputs": [],
   "source": [
    "z_abs_score = np.abs(Z)"
   ]
  },
  {
   "cell_type": "code",
   "execution_count": 48,
   "id": "90bef043",
   "metadata": {},
   "outputs": [],
   "source": [
    "#taking 3 as thresold value\n",
    "df2 = df1[(z_abs_score < 3).all(axis=1)]"
   ]
  },
  {
   "cell_type": "code",
   "execution_count": 49,
   "id": "ccc93786",
   "metadata": {},
   "outputs": [
    {
     "data": {
      "text/plain": [
       "(2096, 3)"
      ]
     },
     "execution_count": 49,
     "metadata": {},
     "output_type": "execute_result"
    }
   ],
   "source": [
    "df2.shape"
   ]
  },
  {
   "cell_type": "code",
   "execution_count": 50,
   "id": "1f490baa",
   "metadata": {},
   "outputs": [
    {
     "data": {
      "text/plain": [
       "(2456, 3)"
      ]
     },
     "execution_count": 50,
     "metadata": {},
     "output_type": "execute_result"
    }
   ],
   "source": [
    "df1.shape"
   ]
  },
  {
   "cell_type": "code",
   "execution_count": 51,
   "id": "a18f7aff",
   "metadata": {},
   "outputs": [],
   "source": [
    "dropindx = X.index.difference(df2.index)"
   ]
  },
  {
   "cell_type": "code",
   "execution_count": 52,
   "id": "c47d4fa7",
   "metadata": {},
   "outputs": [],
   "source": [
    "df.drop(dropindx,inplace = True) #dropping the outlier Dataframe"
   ]
  },
  {
   "cell_type": "code",
   "execution_count": 53,
   "id": "7f6f86ec",
   "metadata": {},
   "outputs": [
    {
     "data": {
      "text/plain": [
       "(2096, 31)"
      ]
     },
     "execution_count": 53,
     "metadata": {},
     "output_type": "execute_result"
    }
   ],
   "source": [
    "df.shape"
   ]
  },
  {
   "cell_type": "markdown",
   "id": "5f4503b1",
   "metadata": {},
   "source": [
    "# Checking For Skewness:"
   ]
  },
  {
   "cell_type": "code",
   "execution_count": 55,
   "id": "8e844e12",
   "metadata": {},
   "outputs": [
    {
     "data": {
      "text/plain": [
       "having_IP_Address              2.379370\n",
       "URL_Length                     1.791326\n",
       "Shortining_Service             2.243269\n",
       "having_At_Symbol               0.000000\n",
       "double_slash_redirecting       2.180058\n",
       "Prefix_Suffix                  0.366000\n",
       "having_Sub_Domain              0.333069\n",
       "SSLfinal_State                -0.530925\n",
       "Domain_registeration_length   -0.044665\n",
       "Favicon                        2.393766\n",
       "port                           3.600632\n",
       "HTTPS_token                    1.787065\n",
       "Request_URL                   -0.401239\n",
       "URL_of_Anchor                  0.086897\n",
       "Links_in_tags                  0.240891\n",
       "SFH                            1.943052\n",
       "Submitting_to_email            2.393766\n",
       "Abnormal_URL                   2.006585\n",
       "Redirect                       2.499048\n",
       "on_mouseover                   4.060212\n",
       "RightClick                     0.000000\n",
       "popUpWidnow                    2.309603\n",
       "Iframe                         0.000000\n",
       "age_of_domain                  0.013271\n",
       "DNSRecord                     -0.147450\n",
       "web_traffic                   -0.615607\n",
       "Page_Rank                      1.260113\n",
       "Google_Index                   2.033977\n",
       "Links_pointing_to_page        -0.163669\n",
       "Statistical_report             2.393766\n",
       "Result                         0.219013\n",
       "dtype: float64"
      ]
     },
     "execution_count": 55,
     "metadata": {},
     "output_type": "execute_result"
    }
   ],
   "source": [
    "df.skew()"
   ]
  },
  {
   "cell_type": "markdown",
   "id": "e868cd4d",
   "metadata": {},
   "source": [
    "# Principle Component Analysis:"
   ]
  },
  {
   "cell_type": "code",
   "execution_count": 56,
   "id": "2465ca8d",
   "metadata": {},
   "outputs": [],
   "source": [
    "from sklearn.decomposition import PCA\n",
    "pca = PCA(n_components=15)"
   ]
  },
  {
   "cell_type": "code",
   "execution_count": 58,
   "id": "8415d1a6",
   "metadata": {},
   "outputs": [],
   "source": [
    "component = pca.fit_transform(X)"
   ]
  },
  {
   "cell_type": "code",
   "execution_count": 59,
   "id": "2c3faad6",
   "metadata": {},
   "outputs": [
    {
     "data": {
      "text/plain": [
       "PCA(n_components=15)"
      ]
     },
     "execution_count": 59,
     "metadata": {},
     "output_type": "execute_result"
    }
   ],
   "source": [
    "pca.fit(X)"
   ]
  },
  {
   "cell_type": "code",
   "execution_count": 60,
   "id": "ada69959",
   "metadata": {},
   "outputs": [
    {
     "data": {
      "image/png": "[encoded data removed]",
      "text/plain": [
       "<Figure size 432x288 with 1 Axes>"
      ]
     },
     "metadata": {
      "needs_background": "light"
     },
     "output_type": "display_data"
    }
   ],
   "source": [
    "#visualzise\n",
    "plt.figure()\n",
    "plt.plot(np.cumsum(pca.explained_variance_ratio_))\n",
    "plt.xlabel('No.of Components')\n",
    "plt.ylabel('% varianace')\n",
    "plt.title('Explained Variance')\n",
    "plt.show()"
   ]
  },
  {
   "cell_type": "code",
   "execution_count": 64,
   "id": "f6c1a99c",
   "metadata": {},
   "outputs": [
    {
     "data": {
      "text/html": [
       "<div>\n",
       "<style scoped>\n",
       "    .dataframe tbody tr th:only-of-type {\n",
       "        vertical-align: middle;\n",
       "    }\n",
       "\n",
       "    .dataframe tbody tr th {\n",
       "        vertical-align: top;\n",
       "    }\n",
       "\n",
       "    .dataframe thead th {\n",
       "        text-align: right;\n",
       "    }\n",
       "</style>\n",
       "<table border=\"1\" class=\"dataframe\">\n",
       "  <thead>\n",
       "    <tr style=\"text-align: right;\">\n",
       "      <th></th>\n",
       "      <th>0</th>\n",
       "      <th>1</th>\n",
       "      <th>2</th>\n",
       "      <th>3</th>\n",
       "      <th>4</th>\n",
       "      <th>5</th>\n",
       "      <th>6</th>\n",
       "      <th>7</th>\n",
       "      <th>8</th>\n",
       "      <th>9</th>\n",
       "      <th>10</th>\n",
       "      <th>11</th>\n",
       "      <th>12</th>\n",
       "      <th>13</th>\n",
       "      <th>14</th>\n",
       "    </tr>\n",
       "  </thead>\n",
       "  <tbody>\n",
       "    <tr>\n",
       "      <th>0</th>\n",
       "      <td>-1.151787</td>\n",
       "      <td>2.440373</td>\n",
       "      <td>0.938363</td>\n",
       "      <td>0.595680</td>\n",
       "      <td>0.751495</td>\n",
       "      <td>1.190755</td>\n",
       "      <td>0.822231</td>\n",
       "      <td>0.306042</td>\n",
       "      <td>0.077098</td>\n",
       "      <td>0.193636</td>\n",
       "      <td>-0.241889</td>\n",
       "      <td>-0.453163</td>\n",
       "      <td>0.022469</td>\n",
       "      <td>0.746108</td>\n",
       "      <td>0.000791</td>\n",
       "    </tr>\n",
       "    <tr>\n",
       "      <th>1</th>\n",
       "      <td>0.182182</td>\n",
       "      <td>1.159236</td>\n",
       "      <td>-0.316612</td>\n",
       "      <td>-0.125048</td>\n",
       "      <td>-0.531854</td>\n",
       "      <td>0.237623</td>\n",
       "      <td>-0.958718</td>\n",
       "      <td>-0.647394</td>\n",
       "      <td>0.497073</td>\n",
       "      <td>0.715132</td>\n",
       "      <td>-0.384787</td>\n",
       "      <td>-1.215237</td>\n",
       "      <td>-0.054812</td>\n",
       "      <td>0.279467</td>\n",
       "      <td>0.096036</td>\n",
       "    </tr>\n",
       "    <tr>\n",
       "      <th>2</th>\n",
       "      <td>-0.396393</td>\n",
       "      <td>1.249874</td>\n",
       "      <td>-0.428962</td>\n",
       "      <td>0.424158</td>\n",
       "      <td>0.581662</td>\n",
       "      <td>0.087798</td>\n",
       "      <td>-1.155454</td>\n",
       "      <td>0.237444</td>\n",
       "      <td>0.096407</td>\n",
       "      <td>-1.121483</td>\n",
       "      <td>-0.155419</td>\n",
       "      <td>0.425214</td>\n",
       "      <td>0.307206</td>\n",
       "      <td>0.588825</td>\n",
       "      <td>0.693357</td>\n",
       "    </tr>\n",
       "    <tr>\n",
       "      <th>3</th>\n",
       "      <td>-1.808144</td>\n",
       "      <td>0.277709</td>\n",
       "      <td>-0.295163</td>\n",
       "      <td>0.665436</td>\n",
       "      <td>-0.939120</td>\n",
       "      <td>0.210024</td>\n",
       "      <td>0.044822</td>\n",
       "      <td>-0.553469</td>\n",
       "      <td>-0.788411</td>\n",
       "      <td>-1.298582</td>\n",
       "      <td>-0.384577</td>\n",
       "      <td>0.365248</td>\n",
       "      <td>0.335444</td>\n",
       "      <td>0.073133</td>\n",
       "      <td>1.247596</td>\n",
       "    </tr>\n",
       "    <tr>\n",
       "      <th>4</th>\n",
       "      <td>0.350915</td>\n",
       "      <td>0.544586</td>\n",
       "      <td>0.035156</td>\n",
       "      <td>0.085697</td>\n",
       "      <td>0.499689</td>\n",
       "      <td>0.009905</td>\n",
       "      <td>-0.024220</td>\n",
       "      <td>-1.385196</td>\n",
       "      <td>0.588744</td>\n",
       "      <td>0.779791</td>\n",
       "      <td>-0.170115</td>\n",
       "      <td>-1.350534</td>\n",
       "      <td>-0.108944</td>\n",
       "      <td>0.178077</td>\n",
       "      <td>0.088711</td>\n",
       "    </tr>\n",
       "    <tr>\n",
       "      <th>...</th>\n",
       "      <td>...</td>\n",
       "      <td>...</td>\n",
       "      <td>...</td>\n",
       "      <td>...</td>\n",
       "      <td>...</td>\n",
       "      <td>...</td>\n",
       "      <td>...</td>\n",
       "      <td>...</td>\n",
       "      <td>...</td>\n",
       "      <td>...</td>\n",
       "      <td>...</td>\n",
       "      <td>...</td>\n",
       "      <td>...</td>\n",
       "      <td>...</td>\n",
       "      <td>...</td>\n",
       "    </tr>\n",
       "    <tr>\n",
       "      <th>2451</th>\n",
       "      <td>-1.854557</td>\n",
       "      <td>-0.520357</td>\n",
       "      <td>-0.565524</td>\n",
       "      <td>0.209329</td>\n",
       "      <td>-0.954245</td>\n",
       "      <td>-0.213773</td>\n",
       "      <td>-0.019569</td>\n",
       "      <td>-0.510079</td>\n",
       "      <td>0.792545</td>\n",
       "      <td>-0.979950</td>\n",
       "      <td>0.279704</td>\n",
       "      <td>0.905144</td>\n",
       "      <td>-0.709947</td>\n",
       "      <td>-0.293002</td>\n",
       "      <td>-0.279966</td>\n",
       "    </tr>\n",
       "    <tr>\n",
       "      <th>2452</th>\n",
       "      <td>-1.652254</td>\n",
       "      <td>-0.844970</td>\n",
       "      <td>0.874665</td>\n",
       "      <td>-0.579655</td>\n",
       "      <td>-0.410781</td>\n",
       "      <td>0.222011</td>\n",
       "      <td>0.568844</td>\n",
       "      <td>0.495661</td>\n",
       "      <td>0.534085</td>\n",
       "      <td>0.624217</td>\n",
       "      <td>0.437312</td>\n",
       "      <td>-0.388473</td>\n",
       "      <td>-0.529150</td>\n",
       "      <td>-0.235666</td>\n",
       "      <td>-0.053846</td>\n",
       "    </tr>\n",
       "    <tr>\n",
       "      <th>2453</th>\n",
       "      <td>0.817086</td>\n",
       "      <td>-0.276506</td>\n",
       "      <td>-1.264155</td>\n",
       "      <td>0.416037</td>\n",
       "      <td>-0.167651</td>\n",
       "      <td>0.180271</td>\n",
       "      <td>1.331330</td>\n",
       "      <td>-0.515589</td>\n",
       "      <td>-0.119690</td>\n",
       "      <td>0.018888</td>\n",
       "      <td>-0.100331</td>\n",
       "      <td>-0.293718</td>\n",
       "      <td>-0.633529</td>\n",
       "      <td>0.142995</td>\n",
       "      <td>-0.125225</td>\n",
       "    </tr>\n",
       "    <tr>\n",
       "      <th>2454</th>\n",
       "      <td>-1.367237</td>\n",
       "      <td>0.387697</td>\n",
       "      <td>-0.166331</td>\n",
       "      <td>-1.577478</td>\n",
       "      <td>0.574303</td>\n",
       "      <td>-0.014217</td>\n",
       "      <td>-0.527439</td>\n",
       "      <td>1.169863</td>\n",
       "      <td>-0.159530</td>\n",
       "      <td>0.015138</td>\n",
       "      <td>0.255216</td>\n",
       "      <td>0.903529</td>\n",
       "      <td>-0.769666</td>\n",
       "      <td>1.179151</td>\n",
       "      <td>-0.084314</td>\n",
       "    </tr>\n",
       "    <tr>\n",
       "      <th>2455</th>\n",
       "      <td>0.839547</td>\n",
       "      <td>-0.422915</td>\n",
       "      <td>-1.527677</td>\n",
       "      <td>0.342661</td>\n",
       "      <td>-0.604771</td>\n",
       "      <td>-0.148811</td>\n",
       "      <td>0.978634</td>\n",
       "      <td>-0.032179</td>\n",
       "      <td>0.963617</td>\n",
       "      <td>-0.125173</td>\n",
       "      <td>-0.236134</td>\n",
       "      <td>-0.173445</td>\n",
       "      <td>-0.571533</td>\n",
       "      <td>0.154871</td>\n",
       "      <td>-0.142980</td>\n",
       "    </tr>\n",
       "  </tbody>\n",
       "</table>\n",
       "<p>2456 rows × 15 columns</p>\n",
       "</div>"
      ],
      "text/plain": [
       "            0         1         2         3         4         5         6   \\\n",
       "0    -1.151787  2.440373  0.938363  0.595680  0.751495  1.190755  0.822231   \n",
       "1     0.182182  1.159236 -0.316612 -0.125048 -0.531854  0.237623 -0.958718   \n",
       "2    -0.396393  1.249874 -0.428962  0.424158  0.581662  0.087798 -1.155454   \n",
       "3    -1.808144  0.277709 -0.295163  0.665436 -0.939120  0.210024  0.044822   \n",
       "4     0.350915  0.544586  0.035156  0.085697  0.499689  0.009905 -0.024220   \n",
       "...        ...       ...       ...       ...       ...       ...       ...   \n",
       "2451 -1.854557 -0.520357 -0.565524  0.209329 -0.954245 -0.213773 -0.019569   \n",
       "2452 -1.652254 -0.844970  0.874665 -0.579655 -0.410781  0.222011  0.568844   \n",
       "2453  0.817086 -0.276506 -1.264155  0.416037 -0.167651  0.180271  1.331330   \n",
       "2454 -1.367237  0.387697 -0.166331 -1.577478  0.574303 -0.014217 -0.527439   \n",
       "2455  0.839547 -0.422915 -1.527677  0.342661 -0.604771 -0.148811  0.978634   \n",
       "\n",
       "            7         8         9         10        11        12        13  \\\n",
       "0     0.306042  0.077098  0.193636 -0.241889 -0.453163  0.022469  0.746108   \n",
       "1    -0.647394  0.497073  0.715132 -0.384787 -1.215237 -0.054812  0.279467   \n",
       "2     0.237444  0.096407 -1.121483 -0.155419  0.425214  0.307206  0.588825   \n",
       "3    -0.553469 -0.788411 -1.298582 -0.384577  0.365248  0.335444  0.073133   \n",
       "4    -1.385196  0.588744  0.779791 -0.170115 -1.350534 -0.108944  0.178077   \n",
       "...        ...       ...       ...       ...       ...       ...       ...   \n",
       "2451 -0.510079  0.792545 -0.979950  0.279704  0.905144 -0.709947 -0.293002   \n",
       "2452  0.495661  0.534085  0.624217  0.437312 -0.388473 -0.529150 -0.235666   \n",
       "2453 -0.515589 -0.119690  0.018888 -0.100331 -0.293718 -0.633529  0.142995   \n",
       "2454  1.169863 -0.159530  0.015138  0.255216  0.903529 -0.769666  1.179151   \n",
       "2455 -0.032179  0.963617 -0.125173 -0.236134 -0.173445 -0.571533  0.154871   \n",
       "\n",
       "            14  \n",
       "0     0.000791  \n",
       "1     0.096036  \n",
       "2     0.693357  \n",
       "3     1.247596  \n",
       "4     0.088711  \n",
       "...        ...  \n",
       "2451 -0.279966  \n",
       "2452 -0.053846  \n",
       "2453 -0.125225  \n",
       "2454 -0.084314  \n",
       "2455 -0.142980  \n",
       "\n",
       "[2456 rows x 15 columns]"
      ]
     },
     "execution_count": 64,
     "metadata": {},
     "output_type": "execute_result"
    }
   ],
   "source": [
    "final = PCA(n_components=15)\n",
    "final_data = final.fit_transform(X)\n",
    "pca_X = pd.DataFrame(final_data)\n",
    "pca_X"
   ]
  },
  {
   "cell_type": "markdown",
   "id": "00d7374e",
   "metadata": {},
   "source": [
    "# Model Building:"
   ]
  },
  {
   "cell_type": "code",
   "execution_count": 65,
   "id": "b6ab9535",
   "metadata": {},
   "outputs": [],
   "source": [
    "from sklearn.metrics import accuracy_score,confusion_matrix,classification_report\n",
    "from sklearn.model_selection import train_test_split\n",
    "from sklearn.linear_model import LogisticRegression\n",
    "from sklearn.neighbors import KNeighborsClassifier\n",
    "from sklearn.tree import DecisionTreeClassifier\n",
    "from sklearn.ensemble import RandomForestClassifier\n",
    "from xgboost import XGBClassifier\n",
    "from sklearn import svm\n",
    "from sklearn.model_selection import GridSearchCV,cross_val_score"
   ]
  },
  {
   "cell_type": "markdown",
   "id": "67bdfe86",
   "metadata": {},
   "source": [
    "# Spliting data"
   ]
  },
  {
   "cell_type": "code",
   "execution_count": 66,
   "id": "617509e1",
   "metadata": {},
   "outputs": [],
   "source": [
    "X_train,X_test,y_train,y_test = train_test_split(pca_X,y,test_size=.31,random_state=9)"
   ]
  },
  {
   "cell_type": "markdown",
   "id": "aeed1ba1",
   "metadata": {},
   "source": [
    "# LogisticRegression"
   ]
  },
  {
   "cell_type": "code",
   "execution_count": 67,
   "id": "1c1ce53e",
   "metadata": {},
   "outputs": [
    {
     "data": {
      "text/plain": [
       "LogisticRegression()"
      ]
     },
     "execution_count": 67,
     "metadata": {},
     "output_type": "execute_result"
    }
   ],
   "source": [
    "lr = LogisticRegression()\n",
    "lr.fit(X_train,y_train)"
   ]
  },
  {
   "cell_type": "code",
   "execution_count": 68,
   "id": "88969dd8",
   "metadata": {},
   "outputs": [
    {
     "data": {
      "text/plain": [
       "0.9403778040141676"
      ]
     },
     "execution_count": 68,
     "metadata": {},
     "output_type": "execute_result"
    }
   ],
   "source": [
    "lr.score(X_train,y_train)"
   ]
  },
  {
   "cell_type": "code",
   "execution_count": 69,
   "id": "f3289e34",
   "metadata": {},
   "outputs": [],
   "source": [
    "pred_lr = lr.predict(X_test)"
   ]
  },
  {
   "cell_type": "code",
   "execution_count": 70,
   "id": "326bfe5f",
   "metadata": {},
   "outputs": [
    {
     "name": "stdout",
     "output_type": "stream",
     "text": [
      "0.9396325459317585\n",
      "[[402  32]\n",
      " [ 14 314]]\n",
      "              precision    recall  f1-score   support\n",
      "\n",
      "           0       0.97      0.93      0.95       434\n",
      "           1       0.91      0.96      0.93       328\n",
      "\n",
      "    accuracy                           0.94       762\n",
      "   macro avg       0.94      0.94      0.94       762\n",
      "weighted avg       0.94      0.94      0.94       762\n",
      "\n"
     ]
    }
   ],
   "source": [
    "print(accuracy_score(y_test,pred_lr))\n",
    "print(confusion_matrix(y_test,pred_lr))\n",
    "print(classification_report(y_test,pred_lr))"
   ]
  },
  {
   "cell_type": "markdown",
   "id": "10d98ebc",
   "metadata": {},
   "source": [
    "# KNeighborsClassifier:"
   ]
  },
  {
   "cell_type": "code",
   "execution_count": 72,
   "id": "cf97fc6c",
   "metadata": {},
   "outputs": [
    {
     "data": {
      "text/plain": [
       "KNeighborsClassifier()"
      ]
     },
     "execution_count": 72,
     "metadata": {},
     "output_type": "execute_result"
    }
   ],
   "source": [
    "K =  KNeighborsClassifier()\n",
    "K.fit(X_train,y_train)"
   ]
  },
  {
   "cell_type": "code",
   "execution_count": 73,
   "id": "47538db4",
   "metadata": {},
   "outputs": [
    {
     "data": {
      "text/plain": [
       "0.9521841794569067"
      ]
     },
     "execution_count": 73,
     "metadata": {},
     "output_type": "execute_result"
    }
   ],
   "source": [
    "K.score(X_train,y_train)"
   ]
  },
  {
   "cell_type": "code",
   "execution_count": 74,
   "id": "fb49552e",
   "metadata": {},
   "outputs": [],
   "source": [
    "pred_k = K.predict(X_test)"
   ]
  },
  {
   "cell_type": "code",
   "execution_count": 75,
   "id": "e952acb9",
   "metadata": {},
   "outputs": [
    {
     "name": "stdout",
     "output_type": "stream",
     "text": [
      "0.952755905511811\n",
      "[[411  23]\n",
      " [ 13 315]]\n",
      "              precision    recall  f1-score   support\n",
      "\n",
      "           0       0.97      0.95      0.96       434\n",
      "           1       0.93      0.96      0.95       328\n",
      "\n",
      "    accuracy                           0.95       762\n",
      "   macro avg       0.95      0.95      0.95       762\n",
      "weighted avg       0.95      0.95      0.95       762\n",
      "\n"
     ]
    }
   ],
   "source": [
    "print(accuracy_score(y_test,pred_k))\n",
    "print(confusion_matrix(y_test,pred_k))\n",
    "print(classification_report(y_test,pred_k))"
   ]
  },
  {
   "cell_type": "markdown",
   "id": "e1dd34bc",
   "metadata": {},
   "source": [
    "# DecisionTreeClassifier:"
   ]
  },
  {
   "cell_type": "code",
   "execution_count": 76,
   "id": "644cd70f",
   "metadata": {},
   "outputs": [
    {
     "data": {
      "text/plain": [
       "DecisionTreeClassifier()"
      ]
     },
     "execution_count": 76,
     "metadata": {},
     "output_type": "execute_result"
    }
   ],
   "source": [
    "DT = DecisionTreeClassifier()\n",
    "DT.fit(X_train,y_train)"
   ]
  },
  {
   "cell_type": "code",
   "execution_count": 77,
   "id": "dac577fa",
   "metadata": {},
   "outputs": [
    {
     "data": {
      "text/plain": [
       "0.9946871310507674"
      ]
     },
     "execution_count": 77,
     "metadata": {},
     "output_type": "execute_result"
    }
   ],
   "source": [
    "DT.score(X_train,y_train)"
   ]
  },
  {
   "cell_type": "code",
   "execution_count": 78,
   "id": "e808ca57",
   "metadata": {},
   "outputs": [],
   "source": [
    "pred_dt = DT.predict(X_test)"
   ]
  },
  {
   "cell_type": "code",
   "execution_count": 79,
   "id": "c757c4d2",
   "metadata": {},
   "outputs": [
    {
     "name": "stdout",
     "output_type": "stream",
     "text": [
      "0.9435695538057742\n",
      "[[407  27]\n",
      " [ 16 312]]\n",
      "              precision    recall  f1-score   support\n",
      "\n",
      "           0       0.96      0.94      0.95       434\n",
      "           1       0.92      0.95      0.94       328\n",
      "\n",
      "    accuracy                           0.94       762\n",
      "   macro avg       0.94      0.94      0.94       762\n",
      "weighted avg       0.94      0.94      0.94       762\n",
      "\n"
     ]
    }
   ],
   "source": [
    "print(accuracy_score(y_test,pred_dt))\n",
    "print(confusion_matrix(y_test,pred_dt))\n",
    "print(classification_report(y_test,pred_dt))"
   ]
  },
  {
   "cell_type": "markdown",
   "id": "b28b85bb",
   "metadata": {},
   "source": [
    "# RandomForestClassifier:"
   ]
  },
  {
   "cell_type": "markdown",
   "id": "4077c38b",
   "metadata": {},
   "source": [
    "# rfc = RandomForestClassifier()\n",
    "rfc.fit(X_train,y_train)"
   ]
  },
  {
   "cell_type": "code",
   "execution_count": 81,
   "id": "c82f988e",
   "metadata": {},
   "outputs": [
    {
     "data": {
      "text/plain": [
       "0.9946871310507674"
      ]
     },
     "execution_count": 81,
     "metadata": {},
     "output_type": "execute_result"
    }
   ],
   "source": [
    "rfc.score(X_train,y_train)"
   ]
  },
  {
   "cell_type": "code",
   "execution_count": 82,
   "id": "f1ea81cf",
   "metadata": {},
   "outputs": [],
   "source": [
    "pred_rf = rfc.predict(X_test)"
   ]
  },
  {
   "cell_type": "code",
   "execution_count": 83,
   "id": "a8197325",
   "metadata": {},
   "outputs": [
    {
     "name": "stdout",
     "output_type": "stream",
     "text": [
      "0.9816272965879265\n",
      "[[425   9]\n",
      " [  5 323]]\n",
      "              precision    recall  f1-score   support\n",
      "\n",
      "           0       0.99      0.98      0.98       434\n",
      "           1       0.97      0.98      0.98       328\n",
      "\n",
      "    accuracy                           0.98       762\n",
      "   macro avg       0.98      0.98      0.98       762\n",
      "weighted avg       0.98      0.98      0.98       762\n",
      "\n"
     ]
    }
   ],
   "source": [
    "print(accuracy_score(y_test,pred_rf))\n",
    "print(confusion_matrix(y_test,pred_rf))\n",
    "print(classification_report(y_test,pred_rf))"
   ]
  },
  {
   "cell_type": "markdown",
   "id": "e6279360",
   "metadata": {},
   "source": [
    "# Support Vector Machine:"
   ]
  },
  {
   "cell_type": "code",
   "execution_count": 84,
   "id": "15093e1b",
   "metadata": {},
   "outputs": [
    {
     "data": {
      "text/plain": [
       "SVC(probability=True)"
      ]
     },
     "execution_count": 84,
     "metadata": {},
     "output_type": "execute_result"
    }
   ],
   "source": [
    "sv=svm.SVC(kernel = 'rbf', probability = True)\n",
    "sv.fit(X_train,y_train)"
   ]
  },
  {
   "cell_type": "code",
   "execution_count": 85,
   "id": "7138c2fe",
   "metadata": {},
   "outputs": [
    {
     "data": {
      "text/plain": [
       "SVC(probability=True)"
      ]
     },
     "execution_count": 85,
     "metadata": {},
     "output_type": "execute_result"
    }
   ],
   "source": [
    "sv.fit(X_train,y_train)"
   ]
  },
  {
   "cell_type": "code",
   "execution_count": 86,
   "id": "f97bcde9",
   "metadata": {},
   "outputs": [],
   "source": [
    "pred_sv = sv.predict(X_test)"
   ]
  },
  {
   "cell_type": "code",
   "execution_count": 87,
   "id": "a021f1a6",
   "metadata": {},
   "outputs": [
    {
     "name": "stdout",
     "output_type": "stream",
     "text": [
      "0.9619422572178478\n",
      "[[416  18]\n",
      " [ 11 317]]\n",
      "              precision    recall  f1-score   support\n",
      "\n",
      "           0       0.97      0.96      0.97       434\n",
      "           1       0.95      0.97      0.96       328\n",
      "\n",
      "    accuracy                           0.96       762\n",
      "   macro avg       0.96      0.96      0.96       762\n",
      "weighted avg       0.96      0.96      0.96       762\n",
      "\n"
     ]
    }
   ],
   "source": [
    "print(accuracy_score(y_test,pred_sv))\n",
    "print(confusion_matrix(y_test,pred_sv))\n",
    "print(classification_report(y_test,pred_sv))"
   ]
  },
  {
   "cell_type": "markdown",
   "id": "e70bf925",
   "metadata": {},
   "source": [
    "# Cross Validation:"
   ]
  },
  {
   "cell_type": "code",
   "execution_count": 88,
   "id": "5de87d74",
   "metadata": {},
   "outputs": [
    {
     "name": "stdout",
     "output_type": "stream",
     "text": [
      "0.9389275247131291\n"
     ]
    }
   ],
   "source": [
    "#logistiregression\n",
    "print(cross_val_score(lr,pca_X,y,cv=5).mean())"
   ]
  },
  {
   "cell_type": "code",
   "execution_count": 89,
   "id": "225b39a3",
   "metadata": {},
   "outputs": [
    {
     "name": "stdout",
     "output_type": "stream",
     "text": [
      "0.9503261967446559\n"
     ]
    }
   ],
   "source": [
    "#knn\n",
    "print(cross_val_score(K,pca_X,y,cv=5).mean())"
   ]
  },
  {
   "cell_type": "code",
   "execution_count": 90,
   "id": "6de928ed",
   "metadata": {},
   "outputs": [
    {
     "name": "stdout",
     "output_type": "stream",
     "text": [
      "0.9674217210603878\n"
     ]
    }
   ],
   "source": [
    "#DecisionTreeClassifier\n",
    "print(cross_val_score(DT,pca_X,y,cv=5).mean())"
   ]
  },
  {
   "cell_type": "code",
   "execution_count": 91,
   "id": "22a02191",
   "metadata": {},
   "outputs": [
    {
     "name": "stdout",
     "output_type": "stream",
     "text": [
      "0.9780123524249499\n"
     ]
    }
   ],
   "source": [
    "#Randomclassifier\n",
    "print(cross_val_score(rfc,pca_X,y,cv=5).mean())"
   ]
  },
  {
   "cell_type": "code",
   "execution_count": 92,
   "id": "7b347b05",
   "metadata": {},
   "outputs": [
    {
     "name": "stdout",
     "output_type": "stream",
     "text": [
      "0.9613200205321808\n"
     ]
    }
   ],
   "source": [
    "#SVM\n",
    "print(cross_val_score(sv,pca_X,y,cv=5).mean())"
   ]
  },
  {
   "cell_type": "markdown",
   "id": "44dd8142",
   "metadata": {},
   "source": [
    "# Hyper Parameter Tunning:"
   ]
  },
  {
   "cell_type": "markdown",
   "id": "d1f29706",
   "metadata": {},
   "source": [
    "### RandomForestClassifier:"
   ]
  },
  {
   "cell_type": "code",
   "execution_count": 93,
   "id": "af05de5a",
   "metadata": {},
   "outputs": [],
   "source": [
    "parameters = {'max_depth':[6,7,8],'max_features':['auto','sqrt'],'n_estimators':[200,300],'criterion' :['gini','entropy']}"
   ]
  },
  {
   "cell_type": "code",
   "execution_count": 94,
   "id": "8d478493",
   "metadata": {},
   "outputs": [],
   "source": [
    "RFC = RandomForestClassifier()"
   ]
  },
  {
   "cell_type": "code",
   "execution_count": 95,
   "id": "f57be60a",
   "metadata": {},
   "outputs": [],
   "source": [
    "RF_cv = GridSearchCV(RFC, parameters, cv=5)"
   ]
  },
  {
   "cell_type": "code",
   "execution_count": 96,
   "id": "8017e4aa",
   "metadata": {},
   "outputs": [
    {
     "data": {
      "text/plain": [
       "GridSearchCV(cv=5, estimator=RandomForestClassifier(),\n",
       "             param_grid={'criterion': ['gini', 'entropy'],\n",
       "                         'max_depth': [6, 7, 8],\n",
       "                         'max_features': ['auto', 'sqrt'],\n",
       "                         'n_estimators': [200, 300]})"
      ]
     },
     "execution_count": 96,
     "metadata": {},
     "output_type": "execute_result"
    }
   ],
   "source": [
    "RF_cv.fit(X,y)"
   ]
  },
  {
   "cell_type": "code",
   "execution_count": 97,
   "id": "6e14f413",
   "metadata": {},
   "outputs": [
    {
     "data": {
      "text/plain": [
       "{'criterion': 'gini',\n",
       " 'max_depth': 8,\n",
       " 'max_features': 'sqrt',\n",
       " 'n_estimators': 200}"
      ]
     },
     "execution_count": 97,
     "metadata": {},
     "output_type": "execute_result"
    }
   ],
   "source": [
    "RF_cv.best_params_"
   ]
  },
  {
   "cell_type": "code",
   "execution_count": 98,
   "id": "575ab469",
   "metadata": {},
   "outputs": [
    {
     "name": "stdout",
     "output_type": "stream",
     "text": [
      "97.50656167979002\n"
     ]
    }
   ],
   "source": [
    "model_RFC = RandomForestClassifier()\n",
    "model_RFC.fit(X_train,y_train)\n",
    "pred_rf = model_RFC.predict(X_test)\n",
    "acc = accuracy_score(y_test,pred_rf)\n",
    "print(acc*100)"
   ]
  },
  {
   "cell_type": "markdown",
   "id": "ba0df661",
   "metadata": {},
   "source": [
    "# AUC ROC Curve:"
   ]
  },
  {
   "cell_type": "code",
   "execution_count": 99,
   "id": "e42156c5",
   "metadata": {},
   "outputs": [],
   "source": [
    "from sklearn.metrics import roc_curve\n",
    "from sklearn.metrics import roc_auc_score"
   ]
  },
  {
   "cell_type": "code",
   "execution_count": 100,
   "id": "e475f295",
   "metadata": {},
   "outputs": [
    {
     "data": {
      "image/png": "[encoded data removed]",
      "text/plain": [
       "<Figure size 432x288 with 1 Axes>"
      ]
     },
     "metadata": {
      "needs_background": "light"
     },
     "output_type": "display_data"
    }
   ],
   "source": [
    "plt.plot([0,1],'k--')\n",
    "plt.plot(label='Random Forest Classifier')\n",
    "plt.xlabel('False positve rate')\n",
    "plt.ylabel('Random Forest Classifier')\n",
    "plt.show()"
   ]
  },
  {
   "cell_type": "code",
   "execution_count": 101,
   "id": "c2bb8e88",
   "metadata": {},
   "outputs": [
    {
     "name": "stdout",
     "output_type": "stream",
     "text": [
      "0.9776902887139107\n"
     ]
    }
   ],
   "source": [
    "model = RandomForestClassifier()\n",
    "model.fit(X_train,y_train)\n",
    "pred_rf = model.predict(X_test)\n",
    "print(accuracy_score(y_test,pred_rf))"
   ]
  },
  {
   "cell_type": "markdown",
   "id": "26d9104f",
   "metadata": {},
   "source": [
    "# RandomForestClassifier 97.76%"
   ]
  },
  {
   "cell_type": "markdown",
   "id": "f0db1278",
   "metadata": {},
   "source": [
    "# Saving model"
   ]
  },
  {
   "cell_type": "code",
   "execution_count": 102,
   "id": "40c68c23",
   "metadata": {},
   "outputs": [],
   "source": [
    "import joblib"
   ]
  },
  {
   "cell_type": "code",
   "execution_count": 103,
   "id": "b8ef6fca",
   "metadata": {},
   "outputs": [
    {
     "data": {
      "text/plain": [
       "['PhishingWebsites.pkl']"
      ]
     },
     "execution_count": 103,
     "metadata": {},
     "output_type": "execute_result"
    }
   ],
   "source": [
    "joblib.dump(model,'PhishingWebsites.pkl')"
   ]
  },
  {
   "cell_type": "code",
   "execution_count": null,
   "id": "3379f8a1",
   "metadata": {},
   "outputs": [],
   "source": []
  }
 ],
 "metadata": {
  "kernelspec": {
   "display_name": "Python 3",
   "language": "python",
   "name": "python3"
  },
  "language_info": {
   "codemirror_mode": {
    "name": "ipython",
    "version": 3
   },
   "file_extension": ".py",
   "mimetype": "text/x-python",
   "name": "python",
   "nbconvert_exporter": "python",
   "pygments_lexer": "ipython3",
   "version": "3.8.8"
  }
 },
 "nbformat": 4,
 "nbformat_minor": 5
}
